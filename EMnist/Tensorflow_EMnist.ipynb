{
  "nbformat": 4,
  "nbformat_minor": 0,
  "metadata": {
    "colab": {
      "provenance": []
    },
    "kernelspec": {
      "name": "python3",
      "display_name": "Python 3"
    },
    "language_info": {
      "name": "python"
    },
    "accelerator": "GPU"
  },
  "cells": [
    {
      "cell_type": "code",
      "source": [
        "#!pip install emnist"
      ],
      "metadata": {
        "id": "99YAuyM9q1IK"
      },
      "execution_count": 3,
      "outputs": []
    },
    {
      "cell_type": "code",
      "execution_count": 4,
      "metadata": {
        "id": "Lj0XUOWnqh41"
      },
      "outputs": [],
      "source": [
        "from matplotlib import pyplot as plt\n",
        "import tensorflow as tf\n",
        "#from tensorflow import keras\n",
        "#Используем костыль для исправления IntelliSense для keras по гайду:\n",
        "#https://stackoverflow.com/questions/71000250/import-tensorflow-keras-could-not-be-resolved-after-upgrading-to-tensorflow-2\n",
        "import keras.api._v2.keras as keras\n",
        "from keras import layers\n",
        "from keras import losses\n",
        "from keras.datasets import mnist\n",
        "import numpy as np\n",
        "from emnist import list_datasets"
      ]
    },
    {
      "cell_type": "code",
      "source": [
        "print(list_datasets())\n",
        "\n",
        "(x_train,y_train), (x_test,y_test)=mnist.load_data()\n",
        "\n",
        "from emnist import extract_training_samples\n",
        "#x_train, y_train = extract_training_samples('digits')\n",
        "x_train, y_train = extract_training_samples('byclass')\n",
        "\n",
        "\n",
        "\n",
        "\n",
        "#x_train_l, y_train_l = extract_training_samples('letters')\n",
        "\n",
        "print()\n",
        "\n",
        "\n",
        "print(\"Train X=%s, y=%s\"%(x_train.shape,y_train.shape))\n",
        "#print(\"Train Letters X=%s, y=%s\"%(x_train_l.shape,y_train_l.shape))\n",
        "#print(\"Test X=%s, y=%s\"%(x_test1.shape,y_test.shape))\n",
        "\n",
        "#x_train=x_train.reshape(-1,28*28).astype('float16')/255.0\n",
        "#x_test=x_test.reshape(-1,28*28).astype('float16')/255.0\n",
        "\n",
        "print(\"Train X=%s, y=%s\"%(x_train.shape,y_train.shape))\n",
        "print(\"Test X=%s, y=%s\"%(x_test.shape,y_test.shape))\n",
        "print(x_test[0].shape)"
      ],
      "metadata": {
        "colab": {
          "base_uri": "https://localhost:8080/"
        },
        "id": "M5d6z8vsqkcZ",
        "outputId": "fc9c34e4-8aa5-4e67-8881-9a076b87d93e"
      },
      "execution_count": 8,
      "outputs": [
        {
          "output_type": "stream",
          "name": "stdout",
          "text": [
            "['balanced', 'byclass', 'bymerge', 'digits', 'letters', 'mnist']\n",
            "\n",
            "Train X=(697932, 28, 28), y=(697932,)\n",
            "Train X=(697932, 28, 28), y=(697932,)\n",
            "Test X=(10000, 28, 28), y=(10000,)\n",
            "(28, 28)\n"
          ]
        }
      ]
    },
    {
      "cell_type": "code",
      "source": [
        "model=keras.Sequential(\n",
        "    [\n",
        "        keras.Input(shape=(28,28,1)),\n",
        "        #keras.Input(shape=(28*28)),\n",
        "        #layers.Dense(16384,activation='relu6'),\n",
        "        #layers.Dense(8192,activation='relu6'),\n",
        "        #layers.Dense(4096,activation='relu6'),\n",
        "        #layers.Dense(2048,activation='relu'),\n",
        "        \n",
        "        #2 - Z, X,Y\n",
        "        layers.Conv2D(28,(2,2),activation='relu',input_shape=(28,28,1)),\n",
        "        layers.MaxPooling2D((2,2)),#Уменьшает в 2 раза\n",
        "        layers.Conv2D(28,(2,2),activation='relu',input_shape=(28,28,1)),\n",
        "        layers.MaxPooling2D((2,2)),#Уменьшает в 2 раза\n",
        "        layers.Conv2D(28,(2,2),activation='relu',input_shape=(28,28,1)),\n",
        "        layers.MaxPooling2D((2,2)),#Уменьшает в 2 раза\n",
        "        layers.Flatten(),\n",
        "        #layers.Dense(2048,activation='relu'),\n",
        "        #layers.Dense(1024,activation='relu'),\n",
        "        layers.Dense(512,activation='relu'),\n",
        "        layers.Dense(256,activation='relu'),\n",
        "        layers.Dense(52+10)\n",
        "    ]#52 Буквы, 10 цифрф\n",
        " )\n",
        "print(model.output_shape)"
      ],
      "metadata": {
        "colab": {
          "base_uri": "https://localhost:8080/"
        },
        "id": "b8MvwAtLqlFY",
        "outputId": "077291ed-250c-4a59-85a0-0be6ad07436a"
      },
      "execution_count": 27,
      "outputs": [
        {
          "output_type": "stream",
          "name": "stdout",
          "text": [
            "(None, 62)\n"
          ]
        }
      ]
    },
    {
      "cell_type": "code",
      "source": [
        "model.compile(\n",
        "    loss=losses.SparseCategoricalCrossentropy(from_logits=True),\n",
        "    optimizer=tf.optimizers.Adam(learning_rate=0.001),\n",
        "    metrics=['accuracy']\n",
        ")"
      ],
      "metadata": {
        "id": "pyM1ppYxqmWP"
      },
      "execution_count": 28,
      "outputs": []
    },
    {
      "cell_type": "code",
      "source": [
        "model.fit(x_train,y_train,batch_size=32,epochs=5)"
      ],
      "metadata": {
        "colab": {
          "base_uri": "https://localhost:8080/"
        },
        "id": "-KiQD3ipqnSQ",
        "outputId": "4435659c-b246-4314-a651-360f334259ed"
      },
      "execution_count": 29,
      "outputs": [
        {
          "output_type": "stream",
          "name": "stdout",
          "text": [
            "Epoch 1/5\n",
            "21811/21811 [==============================] - 81s 4ms/step - loss: 0.5893 - accuracy: 0.8028\n",
            "Epoch 2/5\n",
            "21811/21811 [==============================] - 80s 4ms/step - loss: 0.4730 - accuracy: 0.8336\n",
            "Epoch 3/5\n",
            "21811/21811 [==============================] - 80s 4ms/step - loss: 0.4589 - accuracy: 0.8376\n",
            "Epoch 4/5\n",
            "21811/21811 [==============================] - 80s 4ms/step - loss: 0.4543 - accuracy: 0.8394\n",
            "Epoch 5/5\n",
            "21811/21811 [==============================] - 79s 4ms/step - loss: 0.4530 - accuracy: 0.8398\n"
          ]
        },
        {
          "output_type": "execute_result",
          "data": {
            "text/plain": [
              "<keras.callbacks.History at 0x7fe580368150>"
            ]
          },
          "metadata": {},
          "execution_count": 29
        }
      ]
    },
    {
      "cell_type": "code",
      "source": [
        "results=model.evaluate(x_test,y_test,batch_size=32,verbose=2)\n",
        "print(str(results))\n",
        "#value=np.random.randint(0,10000)\n",
        "\n",
        "for id in range(len(y_train)):\n",
        "    #print(labels[id])\n",
        "    #break\n",
        "    #22 - M big\n",
        "    if(y_train[id]==22):\n",
        "        value=id\n",
        "        break\n",
        "        \n",
        "\n",
        "\n",
        "#print(x_train[value].shape)\n",
        "\n",
        "single=x_train[value]\n",
        "image=np.zeros((28,28,3))\n",
        "print(image.shape)\n",
        "\n",
        "for y in range(0,image.shape[0]):\n",
        "    for x in range(0,image.shape[1]):\n",
        "        for c in range(0,image.shape[2]):\n",
        "            image[y,x,c]=single[y*28+x]\n",
        "\n",
        "\n",
        "\n",
        "print(single.shape)\n",
        "#print(single)\n",
        "\n",
        "singleReady=np.zeros((1,28*28))\n",
        "\n",
        "for y in range(0,image.shape[0]):\n",
        "    for x in range(0,image.shape[1]):\n",
        "            singleReady[0][y*28+x]=single[y*28+x]\n",
        "\n",
        "print(model.predict(singleReady,batch_size=1).argmax())\n",
        "\n",
        "plt.imshow(image)\n",
        "plt.show()"
      ],
      "metadata": {
        "colab": {
          "base_uri": "https://localhost:8080/",
          "height": 373
        },
        "id": "ufDnt-n8qoCn",
        "outputId": "46146cc8-f261-423d-a9e6-a86351cb12f8"
      },
      "execution_count": 30,
      "outputs": [
        {
          "output_type": "stream",
          "name": "stdout",
          "text": [
            "313/313 - 1s - loss: 0.8417 - accuracy: 0.7396 - 841ms/epoch - 3ms/step\n",
            "[0.8416612148284912, 0.7396000027656555]\n",
            "(28, 28, 3)\n"
          ]
        },
        {
          "output_type": "error",
          "ename": "ValueError",
          "evalue": "ignored",
          "traceback": [
            "\u001b[0;31m---------------------------------------------------------------------------\u001b[0m",
            "\u001b[0;31mTypeError\u001b[0m                                 Traceback (most recent call last)",
            "\u001b[0;31mTypeError\u001b[0m: only size-1 arrays can be converted to Python scalars",
            "\nThe above exception was the direct cause of the following exception:\n",
            "\u001b[0;31mValueError\u001b[0m                                Traceback (most recent call last)",
            "\u001b[0;32m<ipython-input-30-bef5906c7679>\u001b[0m in \u001b[0;36m<module>\u001b[0;34m\u001b[0m\n\u001b[1;32m     22\u001b[0m     \u001b[0;32mfor\u001b[0m \u001b[0mx\u001b[0m \u001b[0;32min\u001b[0m \u001b[0mrange\u001b[0m\u001b[0;34m(\u001b[0m\u001b[0;36m0\u001b[0m\u001b[0;34m,\u001b[0m\u001b[0mimage\u001b[0m\u001b[0;34m.\u001b[0m\u001b[0mshape\u001b[0m\u001b[0;34m[\u001b[0m\u001b[0;36m1\u001b[0m\u001b[0;34m]\u001b[0m\u001b[0;34m)\u001b[0m\u001b[0;34m:\u001b[0m\u001b[0;34m\u001b[0m\u001b[0;34m\u001b[0m\u001b[0m\n\u001b[1;32m     23\u001b[0m         \u001b[0;32mfor\u001b[0m \u001b[0mc\u001b[0m \u001b[0;32min\u001b[0m \u001b[0mrange\u001b[0m\u001b[0;34m(\u001b[0m\u001b[0;36m0\u001b[0m\u001b[0;34m,\u001b[0m\u001b[0mimage\u001b[0m\u001b[0;34m.\u001b[0m\u001b[0mshape\u001b[0m\u001b[0;34m[\u001b[0m\u001b[0;36m2\u001b[0m\u001b[0;34m]\u001b[0m\u001b[0;34m)\u001b[0m\u001b[0;34m:\u001b[0m\u001b[0;34m\u001b[0m\u001b[0;34m\u001b[0m\u001b[0m\n\u001b[0;32m---> 24\u001b[0;31m             \u001b[0mimage\u001b[0m\u001b[0;34m[\u001b[0m\u001b[0my\u001b[0m\u001b[0;34m,\u001b[0m\u001b[0mx\u001b[0m\u001b[0;34m,\u001b[0m\u001b[0mc\u001b[0m\u001b[0;34m]\u001b[0m\u001b[0;34m=\u001b[0m\u001b[0msingle\u001b[0m\u001b[0;34m[\u001b[0m\u001b[0my\u001b[0m\u001b[0;34m*\u001b[0m\u001b[0;36m28\u001b[0m\u001b[0;34m+\u001b[0m\u001b[0mx\u001b[0m\u001b[0;34m]\u001b[0m\u001b[0;34m\u001b[0m\u001b[0;34m\u001b[0m\u001b[0m\n\u001b[0m\u001b[1;32m     25\u001b[0m \u001b[0;34m\u001b[0m\u001b[0m\n\u001b[1;32m     26\u001b[0m \u001b[0;34m\u001b[0m\u001b[0m\n",
            "\u001b[0;31mValueError\u001b[0m: setting an array element with a sequence."
          ]
        }
      ]
    },
    {
      "cell_type": "code",
      "source": [
        "model.save('saved_model/my_model_byclass')"
      ],
      "metadata": {
        "id": "muByRWlaqqMo"
      },
      "execution_count": 31,
      "outputs": []
    }
  ]
}