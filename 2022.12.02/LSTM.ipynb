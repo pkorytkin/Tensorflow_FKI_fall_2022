{
 "cells": [
  {
   "cell_type": "code",
   "execution_count": 14,
   "id": "47ec7692-6b99-4d6c-a5f5-7fe87207a50c",
   "metadata": {},
   "outputs": [
    {
     "name": "stdout",
     "output_type": "stream",
     "text": [
      "Model: \"sequential\"\n",
      "_________________________________________________________________\n",
      " Layer (type)                Output Shape              Param #   \n",
      "=================================================================\n",
      " bidirectional (Bidirectiona  (None, None, 64)         15616     \n",
      " l)                                                              \n",
      "                                                                 \n",
      " lstm_layer2 (LSTM)          (None, 32)                12416     \n",
      "                                                                 \n",
      " dense (Dense)               (None, 10)                330       \n",
      "                                                                 \n",
      "=================================================================\n",
      "Total params: 28,362\n",
      "Trainable params: 28,362\n",
      "Non-trainable params: 0\n",
      "_________________________________________________________________\n",
      "None\n",
      "Epoch 1/2\n"
     ]
    },
    {
     "name": "stderr",
     "output_type": "stream",
     "text": [
      "C:\\Users\\PlayerBook4\\miniconda3\\envs\\tf\\lib\\site-packages\\keras\\optimizers\\optimizer_v2\\adam.py:114: UserWarning: The `lr` argument is deprecated, use `learning_rate` instead.\n",
      "  super().__init__(name, **kwargs)\n"
     ]
    },
    {
     "name": "stdout",
     "output_type": "stream",
     "text": [
      "938/938 - 29s - loss: 0.3291 - accuracy: 0.8942 - 29s/epoch - 31ms/step\n",
      "Epoch 2/2\n",
      "938/938 - 25s - loss: 0.1048 - accuracy: 0.9688 - 25s/epoch - 27ms/step\n",
      "157/157 - 2s - loss: 0.0781 - accuracy: 0.9765 - 2s/epoch - 14ms/step\n"
     ]
    },
    {
     "data": {
      "text/plain": [
       "[0.07808595895767212, 0.9764999747276306]"
      ]
     },
     "execution_count": 14,
     "metadata": {},
     "output_type": "execute_result"
    }
   ],
   "source": [
    "import tensorflow as tf\n",
    "from tensorflow import keras \n",
    "from keras import layers\n",
    "from keras.datasets import mnist\n",
    "\n",
    "(x_train, y_train), (x_test, y_test) = mnist.load_data()\n",
    "x_train = x_train.reshape([-1, 28, 28]).astype(\"float32\") / 255.0\n",
    "x_test = x_test.reshape([-1, 28, 28]).astype(\"float32\") / 255.0\n",
    "model=keras.Sequential()\n",
    "model.add(keras.Input(shape=(None, 28))) \n",
    "model.add(\n",
    "    layers.Bidirectional(layers.LSTM(32, return_sequences=True, activation=\"relu\")) \n",
    ")\n",
    "model.add(layers.LSTM(32, name=\"lstm_layer2\")) \n",
    "model.add(layers.Dense(10))\n",
    "print(model.summary())\n",
    "model.compile(\n",
    "    loss=keras.losses.SparseCategoricalCrossentropy(from_logits=True),\n",
    "    optimizer=keras.optimizers.Adam(lr=0.01),\n",
    "    metrics=[\"accuracy\"],\n",
    ")\n",
    "model.fit(x_train, y_train, batch_size=64, epochs=2, verbose=2) \n",
    "model.evaluate(x_test, y_test, batch_size=64, verbose=2)"
   ]
  },
  {
   "cell_type": "code",
   "execution_count": null,
   "id": "f9cbf464-e42c-4066-835b-f62a2ab59cb4",
   "metadata": {},
   "outputs": [],
   "source": []
  }
 ],
 "metadata": {
  "kernelspec": {
   "display_name": "Python 3 (ipykernel)",
   "language": "python",
   "name": "python3"
  },
  "language_info": {
   "codemirror_mode": {
    "name": "ipython",
    "version": 3
   },
   "file_extension": ".py",
   "mimetype": "text/x-python",
   "name": "python",
   "nbconvert_exporter": "python",
   "pygments_lexer": "ipython3",
   "version": "3.9.13"
  }
 },
 "nbformat": 4,
 "nbformat_minor": 5
}
