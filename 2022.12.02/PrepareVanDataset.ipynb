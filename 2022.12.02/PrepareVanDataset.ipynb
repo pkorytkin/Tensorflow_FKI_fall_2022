{
 "cells": [
  {
   "cell_type": "code",
   "execution_count": 5,
   "id": "17c74109-e5a4-43cb-bf71-3e3b690ef5ec",
   "metadata": {},
   "outputs": [],
   "source": [
    "import numpy as np\n",
    "import cv2\n",
    "from os import walk"
   ]
  },
  {
   "cell_type": "code",
   "execution_count": 6,
   "id": "d54ea4a1-71d2-444b-9da1-1449742f841c",
   "metadata": {},
   "outputs": [],
   "source": [
    "def ReadImages(folderPath):\n",
    "    array=[]\n",
    "    for (dirpath, dirnames, filenames) in walk(folderPath):\n",
    "        #f.extend(filenames)\n",
    "        #print(dirpath,dirnames,filenames)\n",
    "        \n",
    "        for image in filenames:\n",
    "            im = cv2.imread(dirpath+image)\n",
    "            im=cv2.resize(im,(32,32))\n",
    "            array.append(im)\n",
    "            #im=cv2.resize(im,(32,32))\n",
    "            #array.append(im)\n",
    "            #print(im.shape)\n",
    "            #break\n",
    "    return np.array(array)\n",
    "        #break"
   ]
  },
  {
   "cell_type": "code",
   "execution_count": 7,
   "id": "f83bb060-f861-4e76-b3ff-352c7250ff12",
   "metadata": {},
   "outputs": [
    {
     "ename": "error",
     "evalue": "OpenCV(4.6.0) D:\\a\\opencv-python\\opencv-python\\opencv\\modules\\imgproc\\src\\resize.cpp:4052: error: (-215:Assertion failed) !ssize.empty() in function 'cv::resize'\n",
     "output_type": "error",
     "traceback": [
      "\u001b[1;31m---------------------------------------------------------------------------\u001b[0m",
      "\u001b[1;31merror\u001b[0m                                     Traceback (most recent call last)",
      "Cell \u001b[1;32mIn [7], line 1\u001b[0m\n\u001b[1;32m----> 1\u001b[0m array\u001b[38;5;241m=\u001b[39m\u001b[43mReadImages\u001b[49m\u001b[43m(\u001b[49m\u001b[38;5;124;43m\"\u001b[39;49m\u001b[38;5;124;43m./Van\u001b[39;49m\u001b[38;5;124;43m\"\u001b[39;49m\u001b[43m)\u001b[49m\n\u001b[0;32m      2\u001b[0m \u001b[38;5;28;01mwith\u001b[39;00m \u001b[38;5;28mopen\u001b[39m(\u001b[38;5;124m'\u001b[39m\u001b[38;5;124mtrain3.npy\u001b[39m\u001b[38;5;124m'\u001b[39m, \u001b[38;5;124m'\u001b[39m\u001b[38;5;124mwb\u001b[39m\u001b[38;5;124m'\u001b[39m) \u001b[38;5;28;01mas\u001b[39;00m f:\n\u001b[0;32m      3\u001b[0m     np\u001b[38;5;241m.\u001b[39msave(f,array)\n",
      "Cell \u001b[1;32mIn [6], line 9\u001b[0m, in \u001b[0;36mReadImages\u001b[1;34m(folderPath)\u001b[0m\n\u001b[0;32m      7\u001b[0m \u001b[38;5;28;01mfor\u001b[39;00m image \u001b[38;5;129;01min\u001b[39;00m filenames:\n\u001b[0;32m      8\u001b[0m     im \u001b[38;5;241m=\u001b[39m cv2\u001b[38;5;241m.\u001b[39mimread(dirpath\u001b[38;5;241m+\u001b[39mimage)\n\u001b[1;32m----> 9\u001b[0m     im\u001b[38;5;241m=\u001b[39m\u001b[43mcv2\u001b[49m\u001b[38;5;241;43m.\u001b[39;49m\u001b[43mresize\u001b[49m\u001b[43m(\u001b[49m\u001b[43mim\u001b[49m\u001b[43m,\u001b[49m\u001b[43m(\u001b[49m\u001b[38;5;241;43m32\u001b[39;49m\u001b[43m,\u001b[49m\u001b[38;5;241;43m32\u001b[39;49m\u001b[43m)\u001b[49m\u001b[43m)\u001b[49m\n\u001b[0;32m     10\u001b[0m     array\u001b[38;5;241m.\u001b[39mappend(im)\n\u001b[0;32m     11\u001b[0m     \u001b[38;5;66;03m#im=cv2.resize(im,(32,32))\u001b[39;00m\n\u001b[0;32m     12\u001b[0m     \u001b[38;5;66;03m#array.append(im)\u001b[39;00m\n\u001b[0;32m     13\u001b[0m     \u001b[38;5;66;03m#print(im.shape)\u001b[39;00m\n\u001b[0;32m     14\u001b[0m     \u001b[38;5;66;03m#break\u001b[39;00m\n",
      "\u001b[1;31merror\u001b[0m: OpenCV(4.6.0) D:\\a\\opencv-python\\opencv-python\\opencv\\modules\\imgproc\\src\\resize.cpp:4052: error: (-215:Assertion failed) !ssize.empty() in function 'cv::resize'\n"
     ]
    }
   ],
   "source": [
    "array=ReadImages(\"./Van\")\n",
    "with open('train3.npy', 'wb') as f:\n",
    "    np.save(f,array)\n",
    "\n"
   ]
  },
  {
   "cell_type": "code",
   "execution_count": 3,
   "id": "b702e0e8-316e-449a-9bcd-136aac10be40",
   "metadata": {},
   "outputs": [],
   "source": [
    "array=ReadImages(\"../../VanDataset/train2/\")\n",
    "with open('train3.npy', 'wb') as f:\n",
    "    np.save(f,array)\n",
    "\n"
   ]
  },
  {
   "cell_type": "code",
   "execution_count": 6,
   "id": "a0f4a662-32b3-4193-9ee2-402f6a9352fb",
   "metadata": {},
   "outputs": [],
   "source": [
    "array=ReadImages(\"../../VanDataset/train/\")\n",
    "with open('train2.npy', 'wb') as f:\n",
    "    np.save(f,array)\n",
    "\n"
   ]
  },
  {
   "cell_type": "code",
   "execution_count": null,
   "id": "eb657a7f-70dd-4a45-b350-262ae800c991",
   "metadata": {},
   "outputs": [],
   "source": [
    "array=ReadImages(\"../../VanDataset/val/van/\")\n",
    "with open('test.npy', 'wb') as f:\n",
    "    np.save(f,array)\n",
    "print(array.shape)\n"
   ]
  },
  {
   "cell_type": "code",
   "execution_count": 36,
   "id": "a378a562-c678-42c7-b31f-8dac100d65a7",
   "metadata": {},
   "outputs": [
    {
     "name": "stdout",
     "output_type": "stream",
     "text": [
      "(605, 32, 32, 3)\n",
      "(56, 32, 32, 3)\n"
     ]
    }
   ],
   "source": [
    "with open('train.npy', 'rb') as f:\n",
    "    train = np.load(f)\n",
    "    print(train.shape)\n",
    "with open('test.npy', 'rb') as f:\n",
    "    test = np.load(f)\n",
    "    print(test.shape)"
   ]
  },
  {
   "cell_type": "code",
   "execution_count": 7,
   "id": "d0e26d88-aeff-4395-969f-2c8868dc2819",
   "metadata": {},
   "outputs": [
    {
     "name": "stdout",
     "output_type": "stream",
     "text": [
      "(1111, 32, 32, 3)\n"
     ]
    }
   ],
   "source": [
    "with open('train2.npy', 'rb') as f:\n",
    "    train = np.load(f)\n",
    "    print(train.shape)"
   ]
  },
  {
   "cell_type": "code",
   "execution_count": 4,
   "id": "ccdfec29-f07f-47fe-9607-cb720bb99630",
   "metadata": {},
   "outputs": [
    {
     "name": "stdout",
     "output_type": "stream",
     "text": [
      "(2167, 32, 32, 3)\n"
     ]
    }
   ],
   "source": [
    "with open('train3.npy', 'rb') as f:\n",
    "    train = np.load(f)\n",
    "    print(train.shape)"
   ]
  },
  {
   "cell_type": "code",
   "execution_count": null,
   "id": "1c3b9c81-367a-4130-ae53-9eb82c03e95b",
   "metadata": {},
   "outputs": [],
   "source": []
  }
 ],
 "metadata": {
  "kernelspec": {
   "display_name": "Python 3 (ipykernel)",
   "language": "python",
   "name": "python3"
  },
  "language_info": {
   "codemirror_mode": {
    "name": "ipython",
    "version": 3
   },
   "file_extension": ".py",
   "mimetype": "text/x-python",
   "name": "python",
   "nbconvert_exporter": "python",
   "pygments_lexer": "ipython3",
   "version": "3.9.13"
  }
 },
 "nbformat": 4,
 "nbformat_minor": 5
}
