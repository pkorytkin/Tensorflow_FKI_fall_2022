{
 "cells": [
  {
   "cell_type": "code",
   "execution_count": 15,
   "id": "17c74109-e5a4-43cb-bf71-3e3b690ef5ec",
   "metadata": {},
   "outputs": [],
   "source": [
    "import numpy as np\n",
    "import cv2\n",
    "from os import walk"
   ]
  },
  {
   "cell_type": "code",
   "execution_count": 29,
   "id": "d54ea4a1-71d2-444b-9da1-1449742f841c",
   "metadata": {},
   "outputs": [],
   "source": [
    "def ReadImages(folderPath):\n",
    "    array=[]\n",
    "    for (dirpath, dirnames, filenames) in walk(folderPath):\n",
    "        #f.extend(filenames)\n",
    "        #print(dirpath,dirnames,filenames)\n",
    "        \n",
    "        for image in filenames:\n",
    "            im = cv2.imread(dirpath+image)\n",
    "            im=cv2.resize(im,(32,32))\n",
    "            array.append(im)\n",
    "            im=cv2.resize(im,(32,32))\n",
    "            array.append(im)\n",
    "            #print(im.shape)\n",
    "            #break\n",
    "    return np.array(array)\n",
    "        #break"
   ]
  },
  {
   "cell_type": "code",
   "execution_count": 33,
   "id": "a0f4a662-32b3-4193-9ee2-402f6a9352fb",
   "metadata": {},
   "outputs": [
    {
     "name": "stdout",
     "output_type": "stream",
     "text": [
      "(56, 32, 32, 3)\n"
     ]
    }
   ],
   "source": [
    "array=ReadImages(\"../../VanDataset/train/van/\")\n",
    "with open('train.npy', 'wb') as f:\n",
    "    np.save(f,array)\n",
    "array=ReadImages(\"../../VanDataset/val/van/\")\n",
    "with open('test.npy', 'wb') as f:\n",
    "    np.save(f,array)\n",
    "print(array.shape)\n",
    "\n"
   ]
  },
  {
   "cell_type": "code",
   "execution_count": 36,
   "id": "a378a562-c678-42c7-b31f-8dac100d65a7",
   "metadata": {},
   "outputs": [
    {
     "name": "stdout",
     "output_type": "stream",
     "text": [
      "(605, 32, 32, 3)\n",
      "(56, 32, 32, 3)\n"
     ]
    }
   ],
   "source": [
    "with open('train.npy', 'rb') as f:\n",
    "    train = np.load(f)\n",
    "    print(train.shape)\n",
    "with open('test.npy', 'rb') as f:\n",
    "    test = np.load(f)\n",
    "    print(test.shape)"
   ]
  },
  {
   "cell_type": "code",
   "execution_count": null,
   "id": "d0e26d88-aeff-4395-969f-2c8868dc2819",
   "metadata": {},
   "outputs": [],
   "source": []
  }
 ],
 "metadata": {
  "kernelspec": {
   "display_name": "Python 3 (ipykernel)",
   "language": "python",
   "name": "python3"
  },
  "language_info": {
   "codemirror_mode": {
    "name": "ipython",
    "version": 3
   },
   "file_extension": ".py",
   "mimetype": "text/x-python",
   "name": "python",
   "nbconvert_exporter": "python",
   "pygments_lexer": "ipython3",
   "version": "3.9.13"
  }
 },
 "nbformat": 4,
 "nbformat_minor": 5
}
