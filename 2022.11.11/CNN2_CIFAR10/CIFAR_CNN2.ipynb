{
 "cells": [
  {
   "cell_type": "code",
   "execution_count": 1,
   "id": "ce3ea746-73ef-48d5-aa6c-ab067a72e8d9",
   "metadata": {},
   "outputs": [
    {
     "name": "stderr",
     "output_type": "stream",
     "text": [
      "C:\\Users\\PlayerPC\\Miniconda3\\envs\\tf\\lib\\site-packages\\tqdm\\auto.py:22: TqdmWarning: IProgress not found. Please update jupyter and ipywidgets. See https://ipywidgets.readthedocs.io/en/stable/user_install.html\n",
      "  from .autonotebook import tqdm as notebook_tqdm\n"
     ]
    }
   ],
   "source": [
    "from matplotlib import pyplot as plt\n",
    "import tensorflow as tf\n",
    "#from tensorflow import keras\n",
    "#Используем костыль для исправления IntelliSense для keras по гайду:\n",
    "#https://stackoverflow.com/questions/71000250/import-tensorflow-keras-could-not-be-resolved-after-upgrading-to-tensorflow-2\n",
    "import keras.api._v2.keras as keras\n",
    "from keras import layers\n",
    "from keras import losses\n",
    "#from keras.datasets import CIFAR100\n",
    "import numpy as np\n",
    "import tensorflow_datasets as tfds"
   ]
  },
  {
   "cell_type": "code",
   "execution_count": 2,
   "id": "b69d7948-26fb-454c-8257-28ada65466f2",
   "metadata": {
    "tags": []
   },
   "outputs": [
    {
     "name": "stdout",
     "output_type": "stream",
     "text": [
      "\n",
      "Train X=(50000, 32, 32, 3, 1), y=(50000, 10)\n",
      "Train X=(50000, 32, 32, 3, 1), y=(50000, 10)\n",
      "Test X=(10000, 32, 32, 3, 1), y=(10000, 10)\n",
      "(32, 32, 3, 1)\n"
     ]
    }
   ],
   "source": [
    "\n",
    "(x_train, y_train), (x_test, y_test) = keras.datasets.cifar10.load_data()\n",
    "#(x_train,y_train), (x_test,y_test)=CIFAR100.load_data()\n",
    "'''print(tfds.load('cifar100', split='train', shuffle_files=True,as_supervised=True))\n",
    "\n",
    "builder = tfds.builder('cifar100')\n",
    "info = builder.info\n",
    "print(info)\n",
    "\n",
    "\n",
    "x_train, y_train = tfds.as_numpy(tfds.load('cifar100', split='train', shuffle_files=True,as_supervised=True))'''\n",
    "#x_test, y_test = tfds.as_numpy(tfds.load('cifar100', split='test', shuffle_files=True))\n",
    "#print(ds)\n",
    "\n",
    "#from eCIFAR100 import extract_training_samples\n",
    "#x_train, y_train = extract_training_samples('digits')\n",
    "#x_train, y_train = extract_training_samples('byclass')\n",
    "#x_train, y_train = extract_training_samples('letters')\n",
    "\n",
    "num_classes=10\n",
    "input_shape = (32, 32, 3)\n",
    "\n",
    "x_train=x_train.astype('float32')/255.0\n",
    "x_test=x_test.astype('float32')/255.0\n",
    "\n",
    "x_train = np.expand_dims(x_train, -1)\n",
    "x_test = np.expand_dims(x_test, -1)\n",
    "\n",
    "y_train = keras.utils.to_categorical(y_train, num_classes)\n",
    "y_test = keras.utils.to_categorical(y_test, num_classes)\n",
    "\n",
    "#x_train_l, y_train_l = extract_training_samples('letters')\n",
    "\n",
    "print()\n",
    "\n",
    "\n",
    "print(\"Train X=%s, y=%s\"%(x_train.shape,y_train.shape))\n",
    "#print(\"Train Letters X=%s, y=%s\"%(x_train_l.shape,y_train_l.shape))\n",
    "#print(\"Test X=%s, y=%s\"%(x_test1.shape,y_test.shape))\n",
    "\n",
    "\n",
    "\n",
    "print(\"Train X=%s, y=%s\"%(x_train.shape,y_train.shape))\n",
    "print(\"Test X=%s, y=%s\"%(x_test.shape,y_test.shape))\n",
    "print(x_test[0].shape)"
   ]
  },
  {
   "cell_type": "code",
   "execution_count": 3,
   "id": "8241987a-89bb-498b-a724-bb548b861416",
   "metadata": {},
   "outputs": [],
   "source": [
    "from keras.layers import Convolution2D, Input\n",
    "\n",
    "def define_skip_model():\n",
    "    inputs = keras.Input(shape=input_shape, name=\"img\")\n",
    "    x = layers.BatchNormalization()(inputs)\n",
    "    x = layers.Conv2D(32, 3, activation=\"relu\")(x)\n",
    "    x = layers.Conv2D(64, 3, activation=\"relu\")(x)\n",
    "    x = layers.BatchNormalization()(x)\n",
    "    #x = layers.Dropout(0.2)(x)\n",
    "    block_1_output = layers.MaxPooling2D(3)(x)\n",
    "    #block_1_output = layers.BatchNormalization()(block_1_output)\n",
    "    \n",
    "    x = layers.Conv2D(64, 3, activation=\"relu\", padding=\"same\")(block_1_output)\n",
    "    x = layers.Conv2D(64, 3, activation=\"relu\", padding=\"same\")(x)\n",
    "    x = layers.BatchNormalization()(x)\n",
    "    #x = layers.Dropout(0.2)(x)\n",
    "    block_2_output = layers.concatenate([x, block_1_output])\n",
    "    #block_2_output = layers.BatchNormalization()(block_2_output)\n",
    "\n",
    "    x = layers.Conv2D(64, 3, activation=\"relu\", padding=\"same\")(block_2_output)\n",
    "    x = layers.Conv2D(64, 3, activation=\"relu\", padding=\"same\")(x)\n",
    "    x = layers.BatchNormalization()(x)\n",
    "    #x = layers.Dropout(0.2)(x)\n",
    "    block_3_output = layers.concatenate([x, block_2_output])\n",
    "    #block_3_output = layers.BatchNormalization()(block_3_output)\n",
    "    \n",
    "    '''x = layers.Conv2D(64, 3, activation=\"relu\", padding=\"same\")(block_3_output)\n",
    "    x = layers.Conv2D(64, 3, activation=\"relu\", padding=\"same\")(x)\n",
    "    x = layers.BatchNormalization()(x)\n",
    "    x = layers.Dropout(0.2)(x)\n",
    "    block_4_output = layers.concatenate([x, block_3_output])\n",
    "    \n",
    "    x = layers.Conv2D(64, 3, activation=\"relu\", padding=\"same\")(block_4_output)\n",
    "    x = layers.Conv2D(64, 3, activation=\"relu\", padding=\"same\")(x)\n",
    "    x = layers.BatchNormalization()(x)\n",
    "    x = layers.Dropout(0.2)(x)\n",
    "    block_5_output = layers.concatenate([x, block_4_output])\n",
    "\n",
    "    x = layers.Conv2D(64, 3, activation=\"relu\")(block_5_output)'''\n",
    "    x = layers.Conv2D(64, 3, activation=\"relu\")(block_3_output)\n",
    "    x = layers.GlobalAveragePooling2D()(x)\n",
    "    #x = layers.Dense(256, activation=\"relu\")(x)\n",
    "    x = layers.Dropout(0.9)(x)\n",
    "    outputs = layers.Dense(num_classes, activation=\"softmax\")(x)\n",
    "    model = keras.Model(inputs, outputs, name=\"toy_resnet\")\n",
    "    return model\n",
    "model=define_skip_model()"
   ]
  },
  {
   "cell_type": "code",
   "execution_count": 9,
   "id": "cecdd65d-85e3-4639-b128-63b390d07ff1",
   "metadata": {},
   "outputs": [],
   "source": [
    "model.compile(\n",
    "    loss=losses.CategoricalCrossentropy(),\n",
    "    optimizer=tf.optimizers.Adam(lr=0.003),\n",
    "    metrics=['accuracy']\n",
    ")"
   ]
  },
  {
   "cell_type": "code",
   "execution_count": 5,
   "id": "2f21720c-e21e-4bf7-a60b-369322b97eaa",
   "metadata": {},
   "outputs": [
    {
     "name": "stdout",
     "output_type": "stream",
     "text": [
      "Epoch 1/10\n",
      "100/100 [==============================] - 16s 111ms/step - loss: 2.3384 - accuracy: 0.1119 - val_loss: 2.2705 - val_accuracy: 0.1352\n",
      "Epoch 2/10\n",
      "100/100 [==============================] - 13s 132ms/step - loss: 2.1934 - accuracy: 0.1561 - val_loss: 1.9778 - val_accuracy: 0.2447\n",
      "Epoch 3/10\n",
      "100/100 [==============================] - 13s 131ms/step - loss: 2.0835 - accuracy: 0.1904 - val_loss: 1.9189 - val_accuracy: 0.2618\n",
      "Epoch 4/10\n",
      "100/100 [==============================] - 13s 130ms/step - loss: 2.0143 - accuracy: 0.2127 - val_loss: 1.8791 - val_accuracy: 0.2838\n",
      "Epoch 5/10\n",
      "100/100 [==============================] - 13s 130ms/step - loss: 1.9487 - accuracy: 0.2314 - val_loss: 1.7637 - val_accuracy: 0.3501\n",
      "Epoch 6/10\n",
      "100/100 [==============================] - 13s 130ms/step - loss: 1.8875 - accuracy: 0.2484 - val_loss: 1.7049 - val_accuracy: 0.3449\n",
      "Epoch 7/10\n",
      "100/100 [==============================] - 13s 130ms/step - loss: 1.8452 - accuracy: 0.2644 - val_loss: 1.8199 - val_accuracy: 0.3195\n",
      "Epoch 8/10\n",
      "100/100 [==============================] - 13s 130ms/step - loss: 1.8095 - accuracy: 0.2765 - val_loss: 1.6218 - val_accuracy: 0.4103\n",
      "Epoch 9/10\n",
      "100/100 [==============================] - 13s 130ms/step - loss: 1.7747 - accuracy: 0.2974 - val_loss: 1.6098 - val_accuracy: 0.4243\n",
      "Epoch 10/10\n",
      "100/100 [==============================] - 13s 129ms/step - loss: 1.7190 - accuracy: 0.3247 - val_loss: 1.5424 - val_accuracy: 0.4338\n"
     ]
    },
    {
     "data": {
      "text/plain": [
       "<keras.callbacks.History at 0x21b3b82dd60>"
      ]
     },
     "execution_count": 5,
     "metadata": {},
     "output_type": "execute_result"
    }
   ],
   "source": [
    "model.fit(x_train,y_train,batch_size=500,epochs=10,shuffle=True,validation_data=(x_test,y_test))"
   ]
  },
  {
   "cell_type": "code",
   "execution_count": 6,
   "id": "6181b6a5-5c42-401e-a472-c4def55db899",
   "metadata": {},
   "outputs": [
    {
     "name": "stdout",
     "output_type": "stream",
     "text": [
      "Epoch 1/10\n",
      "100/100 [==============================] - 13s 133ms/step - loss: 1.6915 - accuracy: 0.3404 - val_loss: 1.5274 - val_accuracy: 0.4526\n",
      "Epoch 2/10\n",
      "100/100 [==============================] - 13s 131ms/step - loss: 1.6228 - accuracy: 0.3726 - val_loss: 1.4415 - val_accuracy: 0.4767\n",
      "Epoch 3/10\n",
      "100/100 [==============================] - 13s 131ms/step - loss: 1.6164 - accuracy: 0.3807 - val_loss: 1.4886 - val_accuracy: 0.5057\n",
      "Epoch 4/10\n",
      "100/100 [==============================] - 13s 131ms/step - loss: 1.5627 - accuracy: 0.4054 - val_loss: 1.3466 - val_accuracy: 0.5591\n",
      "Epoch 5/10\n",
      "100/100 [==============================] - 13s 131ms/step - loss: 1.5230 - accuracy: 0.4171 - val_loss: 1.3615 - val_accuracy: 0.5455\n",
      "Epoch 6/10\n",
      "100/100 [==============================] - 13s 130ms/step - loss: 1.4997 - accuracy: 0.4307 - val_loss: 1.3053 - val_accuracy: 0.5541\n",
      "Epoch 7/10\n",
      "100/100 [==============================] - 13s 130ms/step - loss: 1.4691 - accuracy: 0.4437 - val_loss: 1.2532 - val_accuracy: 0.5719\n",
      "Epoch 8/10\n",
      "100/100 [==============================] - 13s 130ms/step - loss: 1.4518 - accuracy: 0.4543 - val_loss: 1.4031 - val_accuracy: 0.5359\n",
      "Epoch 9/10\n",
      "100/100 [==============================] - 13s 130ms/step - loss: 1.4434 - accuracy: 0.4594 - val_loss: 1.2538 - val_accuracy: 0.5858\n",
      "Epoch 10/10\n",
      "100/100 [==============================] - 13s 129ms/step - loss: 1.4142 - accuracy: 0.4679 - val_loss: 1.1967 - val_accuracy: 0.5965\n"
     ]
    },
    {
     "data": {
      "text/plain": [
       "<keras.callbacks.History at 0x21b56c6ad90>"
      ]
     },
     "execution_count": 6,
     "metadata": {},
     "output_type": "execute_result"
    }
   ],
   "source": [
    "model.fit(x_train,y_train,batch_size=500,epochs=10,shuffle=True,validation_data=(x_test,y_test))"
   ]
  },
  {
   "cell_type": "code",
   "execution_count": 7,
   "id": "038b4b58-dd2e-4e07-8a76-0b62028ae31b",
   "metadata": {},
   "outputs": [
    {
     "name": "stdout",
     "output_type": "stream",
     "text": [
      "Epoch 1/10\n",
      "100/100 [==============================] - 13s 132ms/step - loss: 1.4019 - accuracy: 0.4752 - val_loss: 1.7098 - val_accuracy: 0.5814\n",
      "Epoch 2/10\n",
      "100/100 [==============================] - 13s 130ms/step - loss: 1.3935 - accuracy: 0.4789 - val_loss: 1.2814 - val_accuracy: 0.5994\n",
      "Epoch 3/10\n",
      "100/100 [==============================] - 13s 130ms/step - loss: 1.3613 - accuracy: 0.4877 - val_loss: 1.1951 - val_accuracy: 0.6052\n",
      "Epoch 4/10\n",
      "100/100 [==============================] - 13s 130ms/step - loss: 1.3430 - accuracy: 0.5020 - val_loss: 1.2086 - val_accuracy: 0.5964\n",
      "Epoch 5/10\n",
      "100/100 [==============================] - 13s 130ms/step - loss: 1.3391 - accuracy: 0.5050 - val_loss: 1.1740 - val_accuracy: 0.6245\n",
      "Epoch 6/10\n",
      "100/100 [==============================] - 13s 130ms/step - loss: 1.2910 - accuracy: 0.5226 - val_loss: 1.1663 - val_accuracy: 0.6291\n",
      "Epoch 7/10\n",
      "100/100 [==============================] - 13s 130ms/step - loss: 1.2885 - accuracy: 0.5219 - val_loss: 1.9190 - val_accuracy: 0.5946\n",
      "Epoch 8/10\n",
      "100/100 [==============================] - 13s 130ms/step - loss: 1.2998 - accuracy: 0.5199 - val_loss: 1.2096 - val_accuracy: 0.5823\n",
      "Epoch 9/10\n",
      "100/100 [==============================] - 13s 130ms/step - loss: 1.2724 - accuracy: 0.5269 - val_loss: 1.1757 - val_accuracy: 0.6317\n",
      "Epoch 10/10\n",
      "100/100 [==============================] - 13s 130ms/step - loss: 1.2466 - accuracy: 0.5364 - val_loss: 1.1337 - val_accuracy: 0.6330\n"
     ]
    },
    {
     "data": {
      "text/plain": [
       "<keras.callbacks.History at 0x21b56c93850>"
      ]
     },
     "execution_count": 7,
     "metadata": {},
     "output_type": "execute_result"
    }
   ],
   "source": [
    "model.fit(x_train,y_train,batch_size=500,epochs=10,shuffle=True,validation_data=(x_test,y_test))"
   ]
  },
  {
   "cell_type": "code",
   "execution_count": 8,
   "id": "51772404-2b64-4d97-aa80-85daa2f1f0cd",
   "metadata": {},
   "outputs": [
    {
     "name": "stdout",
     "output_type": "stream",
     "text": [
      "Epoch 1/30\n",
      "100/100 [==============================] - 13s 131ms/step - loss: 1.2418 - accuracy: 0.5412 - val_loss: 1.2002 - val_accuracy: 0.6344\n",
      "Epoch 2/30\n",
      "100/100 [==============================] - 13s 130ms/step - loss: 1.2267 - accuracy: 0.5448 - val_loss: 1.2706 - val_accuracy: 0.6291\n",
      "Epoch 3/30\n",
      "100/100 [==============================] - 13s 130ms/step - loss: 1.2208 - accuracy: 0.5461 - val_loss: 1.2340 - val_accuracy: 0.6421\n",
      "Epoch 4/30\n",
      "100/100 [==============================] - 13s 130ms/step - loss: 1.2277 - accuracy: 0.5491 - val_loss: 1.2775 - val_accuracy: 0.5723\n",
      "Epoch 5/30\n",
      "100/100 [==============================] - 13s 129ms/step - loss: 1.2157 - accuracy: 0.5529 - val_loss: 1.1758 - val_accuracy: 0.6556\n",
      "Epoch 6/30\n",
      "100/100 [==============================] - 13s 129ms/step - loss: 1.1813 - accuracy: 0.5614 - val_loss: 1.0665 - val_accuracy: 0.6508\n",
      "Epoch 7/30\n",
      "100/100 [==============================] - 13s 129ms/step - loss: 1.1895 - accuracy: 0.5603 - val_loss: 1.1378 - val_accuracy: 0.6164\n",
      "Epoch 8/30\n",
      "100/100 [==============================] - 13s 129ms/step - loss: 1.1863 - accuracy: 0.5618 - val_loss: 1.1887 - val_accuracy: 0.6438\n",
      "Epoch 9/30\n",
      "100/100 [==============================] - 13s 129ms/step - loss: 1.1774 - accuracy: 0.5687 - val_loss: 1.1510 - val_accuracy: 0.6760\n",
      "Epoch 10/30\n",
      "100/100 [==============================] - 13s 130ms/step - loss: 1.1643 - accuracy: 0.5711 - val_loss: 1.1667 - val_accuracy: 0.6667\n",
      "Epoch 11/30\n",
      "100/100 [==============================] - 13s 130ms/step - loss: 1.1605 - accuracy: 0.5742 - val_loss: 1.0805 - val_accuracy: 0.6597\n",
      "Epoch 12/30\n",
      "100/100 [==============================] - 13s 130ms/step - loss: 1.1353 - accuracy: 0.5811 - val_loss: 1.2805 - val_accuracy: 0.6282\n",
      "Epoch 13/30\n",
      "100/100 [==============================] - 13s 130ms/step - loss: 1.1410 - accuracy: 0.5788 - val_loss: 1.1603 - val_accuracy: 0.6500\n",
      "Epoch 14/30\n",
      "100/100 [==============================] - 13s 130ms/step - loss: 1.1608 - accuracy: 0.5725 - val_loss: 1.2984 - val_accuracy: 0.6755\n",
      "Epoch 15/30\n",
      "100/100 [==============================] - 13s 130ms/step - loss: 1.1273 - accuracy: 0.5860 - val_loss: 1.2273 - val_accuracy: 0.6383\n",
      "Epoch 16/30\n",
      "100/100 [==============================] - 13s 130ms/step - loss: 1.1379 - accuracy: 0.5831 - val_loss: 1.1336 - val_accuracy: 0.6667\n",
      "Epoch 17/30\n",
      "100/100 [==============================] - 13s 130ms/step - loss: 1.0925 - accuracy: 0.5933 - val_loss: 1.2644 - val_accuracy: 0.6797\n",
      "Epoch 18/30\n",
      "100/100 [==============================] - 13s 129ms/step - loss: 1.1110 - accuracy: 0.5943 - val_loss: 1.2195 - val_accuracy: 0.6645\n",
      "Epoch 19/30\n",
      "100/100 [==============================] - 13s 130ms/step - loss: 1.0917 - accuracy: 0.5958 - val_loss: 1.0793 - val_accuracy: 0.6712\n",
      "Epoch 20/30\n",
      "100/100 [==============================] - 13s 130ms/step - loss: 1.0846 - accuracy: 0.5983 - val_loss: 1.2489 - val_accuracy: 0.6882\n",
      "Epoch 21/30\n",
      "100/100 [==============================] - 13s 130ms/step - loss: 1.0728 - accuracy: 0.6046 - val_loss: 1.3463 - val_accuracy: 0.6713\n",
      "Epoch 22/30\n",
      "100/100 [==============================] - 13s 130ms/step - loss: 1.0696 - accuracy: 0.6063 - val_loss: 1.1776 - val_accuracy: 0.6892\n",
      "Epoch 23/30\n",
      "100/100 [==============================] - 13s 130ms/step - loss: 1.0892 - accuracy: 0.6013 - val_loss: 1.2422 - val_accuracy: 0.6376\n",
      "Epoch 24/30\n",
      "100/100 [==============================] - 13s 130ms/step - loss: 1.0839 - accuracy: 0.6009 - val_loss: 1.2482 - val_accuracy: 0.6710\n",
      "Epoch 25/30\n",
      "100/100 [==============================] - 13s 130ms/step - loss: 1.0422 - accuracy: 0.6149 - val_loss: 1.2673 - val_accuracy: 0.6793\n",
      "Epoch 26/30\n",
      "100/100 [==============================] - 13s 130ms/step - loss: 1.0696 - accuracy: 0.6072 - val_loss: 1.1292 - val_accuracy: 0.6522\n",
      "Epoch 27/30\n",
      "100/100 [==============================] - 13s 129ms/step - loss: 1.0757 - accuracy: 0.6071 - val_loss: 1.1872 - val_accuracy: 0.6784\n",
      "Epoch 28/30\n",
      "100/100 [==============================] - 13s 130ms/step - loss: 1.0518 - accuracy: 0.6143 - val_loss: 1.1148 - val_accuracy: 0.6709\n",
      "Epoch 29/30\n",
      "100/100 [==============================] - 13s 130ms/step - loss: 1.0380 - accuracy: 0.6172 - val_loss: 1.3590 - val_accuracy: 0.6664\n",
      "Epoch 30/30\n",
      "100/100 [==============================] - 13s 129ms/step - loss: 1.0444 - accuracy: 0.6184 - val_loss: 1.2014 - val_accuracy: 0.6444\n"
     ]
    },
    {
     "data": {
      "text/plain": [
       "<keras.callbacks.History at 0x21b56c709d0>"
      ]
     },
     "execution_count": 8,
     "metadata": {},
     "output_type": "execute_result"
    }
   ],
   "source": [
    "model.fit(x_train,y_train,batch_size=500,epochs=30,shuffle=True,validation_data=(x_test,y_test))"
   ]
  },
  {
   "cell_type": "code",
   "execution_count": 10,
   "id": "3ab3cf31-bbd6-4f97-bcaf-4508be369376",
   "metadata": {},
   "outputs": [
    {
     "name": "stdout",
     "output_type": "stream",
     "text": [
      "Epoch 1/30\n",
      "100/100 [==============================] - 14s 134ms/step - loss: 0.9636 - accuracy: 0.6409 - val_loss: 1.3020 - val_accuracy: 0.7101\n",
      "Epoch 2/30\n",
      "100/100 [==============================] - 13s 130ms/step - loss: 0.9098 - accuracy: 0.6588 - val_loss: 1.2423 - val_accuracy: 0.7115\n",
      "Epoch 3/30\n",
      "100/100 [==============================] - 13s 131ms/step - loss: 0.8884 - accuracy: 0.6660 - val_loss: 1.2387 - val_accuracy: 0.7047\n",
      "Epoch 4/30\n",
      "100/100 [==============================] - 13s 130ms/step - loss: 0.8768 - accuracy: 0.6702 - val_loss: 1.4408 - val_accuracy: 0.7047\n",
      "Epoch 5/30\n",
      "100/100 [==============================] - 13s 130ms/step - loss: 0.8684 - accuracy: 0.6741 - val_loss: 1.4316 - val_accuracy: 0.7099\n",
      "Epoch 6/30\n",
      "100/100 [==============================] - 13s 131ms/step - loss: 0.8652 - accuracy: 0.6754 - val_loss: 1.5368 - val_accuracy: 0.7150\n",
      "Epoch 7/30\n",
      "100/100 [==============================] - 13s 134ms/step - loss: 0.8465 - accuracy: 0.6825 - val_loss: 1.4523 - val_accuracy: 0.7074\n",
      "Epoch 8/30\n",
      "100/100 [==============================] - 13s 131ms/step - loss: 0.8393 - accuracy: 0.6847 - val_loss: 1.4136 - val_accuracy: 0.7025\n",
      "Epoch 9/30\n",
      "100/100 [==============================] - 13s 130ms/step - loss: 0.8313 - accuracy: 0.6877 - val_loss: 1.3953 - val_accuracy: 0.7070\n",
      "Epoch 10/30\n",
      "100/100 [==============================] - 13s 129ms/step - loss: 0.8363 - accuracy: 0.6856 - val_loss: 1.7876 - val_accuracy: 0.7122\n",
      "Epoch 11/30\n",
      "100/100 [==============================] - 13s 131ms/step - loss: 0.8270 - accuracy: 0.6897 - val_loss: 1.8184 - val_accuracy: 0.7120\n",
      "Epoch 12/30\n",
      "100/100 [==============================] - 13s 129ms/step - loss: 0.8337 - accuracy: 0.6887 - val_loss: 1.7593 - val_accuracy: 0.7109\n",
      "Epoch 13/30\n",
      "100/100 [==============================] - 13s 132ms/step - loss: 0.8197 - accuracy: 0.6917 - val_loss: 2.0655 - val_accuracy: 0.7145\n",
      "Epoch 14/30\n",
      "100/100 [==============================] - 13s 132ms/step - loss: 0.8238 - accuracy: 0.6900 - val_loss: 1.6233 - val_accuracy: 0.7080\n",
      "Epoch 15/30\n",
      "100/100 [==============================] - 13s 130ms/step - loss: 0.8117 - accuracy: 0.6955 - val_loss: 1.8940 - val_accuracy: 0.7126\n",
      "Epoch 16/30\n",
      "100/100 [==============================] - 13s 127ms/step - loss: 0.8085 - accuracy: 0.6968 - val_loss: 1.6884 - val_accuracy: 0.7080\n",
      "Epoch 17/30\n",
      "100/100 [==============================] - 13s 130ms/step - loss: 0.7985 - accuracy: 0.6998 - val_loss: 1.6019 - val_accuracy: 0.7136\n",
      "Epoch 18/30\n",
      "100/100 [==============================] - 13s 129ms/step - loss: 0.8164 - accuracy: 0.6995 - val_loss: 2.4467 - val_accuracy: 0.6890\n",
      "Epoch 19/30\n",
      "100/100 [==============================] - 14s 136ms/step - loss: 0.8937 - accuracy: 0.6724 - val_loss: 1.6673 - val_accuracy: 0.7035\n",
      "Epoch 20/30\n",
      "100/100 [==============================] - 13s 133ms/step - loss: 0.7971 - accuracy: 0.7015 - val_loss: 1.7748 - val_accuracy: 0.7158\n",
      "Epoch 21/30\n",
      "100/100 [==============================] - 13s 131ms/step - loss: 0.7900 - accuracy: 0.7022 - val_loss: 2.0153 - val_accuracy: 0.7084\n",
      "Epoch 22/30\n",
      "100/100 [==============================] - 13s 130ms/step - loss: 0.7799 - accuracy: 0.7100 - val_loss: 1.9075 - val_accuracy: 0.7207\n",
      "Epoch 23/30\n",
      "100/100 [==============================] - 13s 131ms/step - loss: 0.7748 - accuracy: 0.7094 - val_loss: 1.9543 - val_accuracy: 0.7182\n",
      "Epoch 24/30\n",
      "100/100 [==============================] - 13s 130ms/step - loss: 0.7656 - accuracy: 0.7127 - val_loss: 1.8294 - val_accuracy: 0.7122\n",
      "Epoch 25/30\n",
      "100/100 [==============================] - 13s 130ms/step - loss: 0.7657 - accuracy: 0.7134 - val_loss: 2.0564 - val_accuracy: 0.7137\n",
      "Epoch 26/30\n",
      "100/100 [==============================] - 13s 130ms/step - loss: 0.7630 - accuracy: 0.7156 - val_loss: 2.0934 - val_accuracy: 0.7142\n",
      "Epoch 27/30\n",
      "100/100 [==============================] - 13s 131ms/step - loss: 0.7617 - accuracy: 0.7143 - val_loss: 2.4751 - val_accuracy: 0.7133\n",
      "Epoch 28/30\n",
      "100/100 [==============================] - 13s 131ms/step - loss: 0.7668 - accuracy: 0.7126 - val_loss: 2.1608 - val_accuracy: 0.7081\n",
      "Epoch 29/30\n",
      "100/100 [==============================] - 13s 130ms/step - loss: 0.7527 - accuracy: 0.7196 - val_loss: 1.9304 - val_accuracy: 0.7108\n",
      "Epoch 30/30\n",
      "100/100 [==============================] - 13s 131ms/step - loss: 0.7453 - accuracy: 0.7231 - val_loss: 2.1545 - val_accuracy: 0.7124\n"
     ]
    },
    {
     "data": {
      "text/plain": [
       "<keras.callbacks.History at 0x21b5ca028e0>"
      ]
     },
     "execution_count": 10,
     "metadata": {},
     "output_type": "execute_result"
    }
   ],
   "source": [
    "model.fit(x_train,y_train,batch_size=500,epochs=30,shuffle=True,validation_data=(x_test,y_test))"
   ]
  },
  {
   "cell_type": "code",
   "execution_count": 12,
   "id": "cf47c0a5-51d3-4bd0-b20e-19b662dbd1c1",
   "metadata": {},
   "outputs": [],
   "source": [
    "model.save_weights(\"accuracy0.71.h5\")"
   ]
  },
  {
   "cell_type": "code",
   "execution_count": 12,
   "id": "6186a282-2204-4b0e-8bd2-c08bd411cf03",
   "metadata": {},
   "outputs": [
    {
     "name": "stdout",
     "output_type": "stream",
     "text": [
      "313/313 - 1s - loss: 0.0398 - accuracy: 0.9875 - 1s/epoch - 3ms/step\n",
      "[0.039796166121959686, 0.987500011920929]\n",
      "8440\n",
      "(28, 28, 3)\n",
      "(28, 28, 1)\n",
      "1/1 [==============================] - 0s 24ms/step\n",
      "9\n"
     ]
    },
    {
     "data": {
      "image/png": "[encoded data removed]",
      "text/plain": [
       "<Figure size 640x480 with 1 Axes>"
      ]
     },
     "metadata": {},
     "output_type": "display_data"
    }
   ],
   "source": [
    "results=model.evaluate(x_test,y_test,batch_size=32,verbose=2)\n",
    "print(str(results))\n",
    "value=np.random.randint(0,10000)\n",
    "print(value)\n",
    "for id in range(len(y_train)):\n",
    "    #print(labels[id])\n",
    "    #break\n",
    "    #22 - M big\n",
    "    if(y_train.argmax()==7):\n",
    "        value=id\n",
    "        break\n",
    "        \n",
    "\n",
    "\n",
    "#print(x_train[value].shape)\n",
    "\n",
    "single=x_train[value]\n",
    "image=np.zeros((28,28,3))\n",
    "print(image.shape)\n",
    "\n",
    "for y in range(0,image.shape[0]):\n",
    "    for x in range(0,image.shape[1]):\n",
    "        for c in range(0,image.shape[2]):\n",
    "            image[y,x,c]=single[y][x]\n",
    "\n",
    "\n",
    "\n",
    "print(single.shape)\n",
    "#print(single)\n",
    "\n",
    "singleReady=np.zeros((1,28,28))\n",
    "\n",
    "for y in range(0,image.shape[0]):\n",
    "    for x in range(0,image.shape[1]):\n",
    "            singleReady[0][y][x]=single[y][x]\n",
    "\n",
    "print(model.predict(singleReady,batch_size=1).argmax())\n",
    "\n",
    "plt.imshow(image)\n",
    "plt.show()"
   ]
  },
  {
   "cell_type": "code",
   "execution_count": 13,
   "id": "d90177ee-7111-49bd-87de-fd4323a5947f",
   "metadata": {},
   "outputs": [],
   "source": [
    "model.save('saved_model_CNN/CIFAR100_byclass_done.h5')"
   ]
  },
  {
   "cell_type": "code",
   "execution_count": 14,
   "id": "28f6ad4b-c994-4c6b-9412-9b84fa1e51c6",
   "metadata": {},
   "outputs": [],
   "source": [
    "#results=model.evaluate(x_test,y_test,batch_size=32,verbose=2)\n",
    "#print(str(results))\n",
    "#value=np.random.randint(0,10000)\n",
    "\n",
    "id=22\n",
    "for v in y_train:\n",
    "    if(v.argmax()==id):\n",
    "        print(id)\n",
    "        ShowImage(v)\n",
    "        break\n",
    "        #id+=1\n",
    "currentIteration=0\n",
    "'''for v in y_train:\n",
    "    if(v==id):\n",
    "        print(id,v)\n",
    "        ShowImage(v)\n",
    "        currentIteration+=1\n",
    "        id+=1    \n",
    "    if(currentIteration==10):\n",
    "        break'''\n",
    "\n",
    "\n",
    "def ShowImage(value:int):\n",
    "    print(x_train[value].shape)\n",
    "\n",
    "    single=x_train[value]\n",
    "    image=np.zeros((28,28,3))\n",
    "    print(image.shape)\n",
    "\n",
    "    for y in range(0,image.shape[0]):\n",
    "        for x in range(0,image.shape[1]):\n",
    "            for c in range(0,image.shape[2]):\n",
    "                image[y,x,c]=single[y*28+x]\n",
    "\n",
    "\n",
    "\n",
    "    #print(single.shape)\n",
    "    #print(single)\n",
    "\n",
    "    #singleReady=np.zeros((1,28*28))\n",
    "\n",
    "    #for y in range(0,image.shape[0]):\n",
    "    #    for x in range(0,image.shape[1]):\n",
    "    #            singleReady[0][y*28+x]=single[y*28+x]\n",
    "\n",
    "    #print(model.predict(singleReady,batch_size=1).argmax())\n",
    "\n",
    "    plt.imshow(image)\n",
    "    plt.show()"
   ]
  },
  {
   "cell_type": "code",
   "execution_count": 17,
   "id": "86d82074-35d5-4ed4-842c-8f9e6e7a81ae",
   "metadata": {},
   "outputs": [],
   "source": [
    "from PIL import Image\n",
    "IMG = np.asarray(Image.open('E:/JupyterLab/Tensorflow_FKI_fall_2022/2022.10.07/Segmented/9.png'))"
   ]
  },
  {
   "cell_type": "code",
   "execution_count": 30,
   "id": "95b55033-6874-4064-a576-4b032543f4bc",
   "metadata": {},
   "outputs": [
    {
     "data": {
      "image/png": "[encoded data removed]",
      "text/plain": [
       "<Figure size 640x480 with 1 Axes>"
      ]
     },
     "metadata": {},
     "output_type": "display_data"
    },
    {
     "name": "stdout",
     "output_type": "stream",
     "text": [
      "(28, 28, 3)\n",
      "(1, 28, 28)\n"
     ]
    }
   ],
   "source": [
    "plt.imshow(IMG)\n",
    "plt.show()\n",
    "print(IMG.shape)\n",
    "\n",
    "IMG_2=np.zeros((1,28,28),dtype=\"float32\")\n",
    "\n",
    "for x in range(28):\n",
    "    for y in range(28):\n",
    "        IMG_2[0][x][y]=IMG[x][y][0]/255.\n",
    "print(IMG_2.shape)"
   ]
  },
  {
   "cell_type": "code",
   "execution_count": 32,
   "id": "c89da332-81e7-4a97-81fd-01a53ed022a6",
   "metadata": {},
   "outputs": [
    {
     "name": "stdout",
     "output_type": "stream",
     "text": [
      "1/1 [==============================] - 0s 26ms/step\n",
      "3\n"
     ]
    }
   ],
   "source": [
    "print(model.predict(IMG_2,batch_size=1).argmax())"
   ]
  },
  {
   "cell_type": "code",
   "execution_count": null,
   "id": "4873c98d-4e6f-4e4a-a4f8-74653017b9d6",
   "metadata": {},
   "outputs": [],
   "source": []
  }
 ],
 "metadata": {
  "kernelspec": {
   "display_name": "Python 3 (ipykernel)",
   "language": "python",
   "name": "python3"
  },
  "language_info": {
   "codemirror_mode": {
    "name": "ipython",
    "version": 3
   },
   "file_extension": ".py",
   "mimetype": "text/x-python",
   "name": "python",
   "nbconvert_exporter": "python",
   "pygments_lexer": "ipython3",
   "version": "3.9.13"
  }
 },
 "nbformat": 4,
 "nbformat_minor": 5
}
