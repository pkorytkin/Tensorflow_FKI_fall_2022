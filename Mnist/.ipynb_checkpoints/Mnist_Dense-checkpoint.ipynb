{
 "cells": [
  {
   "cell_type": "code",
   "execution_count": 1,
   "id": "ce3ea746-73ef-48d5-aa6c-ab067a72e8d9",
   "metadata": {},
   "outputs": [],
   "source": [
    "from matplotlib import pyplot as plt\n",
    "import tensorflow as tf\n",
    "#from tensorflow import keras\n",
    "#Используем костыль для исправления IntelliSense для keras по гайду:\n",
    "#https://stackoverflow.com/questions/71000250/import-tensorflow-keras-could-not-be-resolved-after-upgrading-to-tensorflow-2\n",
    "import keras.api._v2.keras as keras\n",
    "from keras import layers\n",
    "from keras import losses\n",
    "from keras.datasets import mnist\n",
    "import numpy as np\n",
    "from emnist import list_datasets"
   ]
  },
  {
   "cell_type": "code",
   "execution_count": 2,
   "id": "b69d7948-26fb-454c-8257-28ada65466f2",
   "metadata": {},
   "outputs": [
    {
     "name": "stdout",
     "output_type": "stream",
     "text": [
      "\n",
      "Train X=(60000, 784), y=(60000,)\n",
      "Train X=(60000, 784), y=(60000,)\n",
      "Test X=(10000, 784), y=(10000,)\n",
      "(784,)\n"
     ]
    }
   ],
   "source": [
    "#print(list_datasets())\n",
    "\n",
    "(x_train,y_train), (x_test,y_test)=mnist.load_data()\n",
    "\n",
    "#from emnist import extract_training_samples\n",
    "#x_train, y_train = extract_training_samples('digits')\n",
    "#x_train, y_train = extract_training_samples('byclass')\n",
    "#x_train, y_train = extract_training_samples('letters')\n",
    "\n",
    "num_output_classes=10\n",
    "input_shape = (28*28)\n",
    "\n",
    "x_train=x_train.reshape(-1,28*28).astype('float32')/255.0\n",
    "x_test=x_test.reshape(-1,28*28).astype('float32')/255.0\n",
    "\n",
    "#x_train = np.expand_dims(x_train, -1)\n",
    "#x_test = np.expand_dims(x_test, -1)\n",
    "\n",
    "#y_train = keras.utils.to_categorical(y_train, num_classes)\n",
    "#y_test = keras.utils.to_categorical(y_test, num_classes)\n",
    "\n",
    "#x_train_l, y_train_l = extract_training_samples('letters')\n",
    "\n",
    "print()\n",
    "\n",
    "\n",
    "print(\"Train X=%s, y=%s\"%(x_train.shape,y_train.shape))\n",
    "#print(\"Train Letters X=%s, y=%s\"%(x_train_l.shape,y_train_l.shape))\n",
    "#print(\"Test X=%s, y=%s\"%(x_test1.shape,y_test.shape))\n",
    "\n",
    "\n",
    "print(\"Train X=%s, y=%s\"%(x_train.shape,y_train.shape))\n",
    "print(\"Test X=%s, y=%s\"%(x_test.shape,y_test.shape))\n",
    "print(x_test[0].shape)"
   ]
  },
  {
   "cell_type": "code",
   "execution_count": 3,
   "id": "4415ec0d-cc5a-4cab-b2ff-27ea927c103f",
   "metadata": {},
   "outputs": [
    {
     "name": "stdout",
     "output_type": "stream",
     "text": [
      "(None, 10)\n",
      "Model: \"sequential\"\n",
      "_________________________________________________________________\n",
      " Layer (type)                Output Shape              Param #   \n",
      "=================================================================\n",
      " batch_normalization (BatchN  (None, 784)              3136      \n",
      " ormalization)                                                   \n",
      "                                                                 \n",
      " dense (Dense)               (None, 784)               615440    \n",
      "                                                                 \n",
      " batch_normalization_1 (Batc  (None, 784)              3136      \n",
      " hNormalization)                                                 \n",
      "                                                                 \n",
      " dense_1 (Dense)             (None, 512)               401920    \n",
      "                                                                 \n",
      " batch_normalization_2 (Batc  (None, 512)              2048      \n",
      " hNormalization)                                                 \n",
      "                                                                 \n",
      " dense_2 (Dense)             (None, 256)               131328    \n",
      "                                                                 \n",
      " batch_normalization_3 (Batc  (None, 256)              1024      \n",
      " hNormalization)                                                 \n",
      "                                                                 \n",
      " dense_3 (Dense)             (None, 128)               32896     \n",
      "                                                                 \n",
      " dense_4 (Dense)             (None, 10)                1290      \n",
      "                                                                 \n",
      "=================================================================\n",
      "Total params: 1,192,218\n",
      "Trainable params: 1,187,546\n",
      "Non-trainable params: 4,672\n",
      "_________________________________________________________________\n",
      "None\n"
     ]
    }
   ],
   "source": [
    "def ModelCreate():\n",
    "    model=keras.Sequential(\n",
    "    [\n",
    "        keras.Input(shape=input_shape),\n",
    "        #layers.MaxPooling2D(pool_size=(2, 2)),\n",
    "        #layers.Flatten(),\n",
    "        #layers.Dropout(0.5),\n",
    "        layers.BatchNormalizationV1(),\n",
    "        layers.Dense(28*28,activation='relu'),\n",
    "        layers.BatchNormalizationV1(),\n",
    "        layers.Dense(512,activation='relu'),\n",
    "        layers.BatchNormalizationV1(),\n",
    "        layers.Dense(256,activation='relu'),\n",
    "        layers.BatchNormalizationV1(),\n",
    "        layers.Dense(128,activation='relu'),\n",
    "        layers.Dense(num_output_classes),#Уже на выходе вероятности если from_logits\n",
    "    ]#52 Буквы, 10 цифрф\n",
    "    )\n",
    "    return model\n",
    "model=ModelCreate()\n",
    "print(model.output_shape)\n",
    "print(str(model.summary()))"
   ]
  },
  {
   "cell_type": "code",
   "execution_count": 4,
   "id": "cecdd65d-85e3-4639-b128-63b390d07ff1",
   "metadata": {},
   "outputs": [
    {
     "name": "stderr",
     "output_type": "stream",
     "text": [
      "c:\\users\\playerbook4\\appdata\\local\\programs\\python\\python37\\lib\\site-packages\\keras\\optimizers\\optimizer_v2\\adam.py:114: UserWarning: The `lr` argument is deprecated, use `learning_rate` instead.\n",
      "  super().__init__(name, **kwargs)\n"
     ]
    }
   ],
   "source": [
    "\n",
    "def Compile(model):\n",
    "    model.compile(\n",
    "        #SparseCategoricalCrossentropy - ужастно работает на EMnist. CategoricalCrossentropy + категории топчик.\n",
    "        loss=losses.SparseCategoricalCrossentropy(from_logits=True),\n",
    "        optimizer=tf.optimizers.Adam(lr=0.01),#Adam сходится быстрее, чем Adadelta\n",
    "        metrics=['Accuracy']#В данной задаче лучше, чем CategoricalAccuracy\n",
    "    )\n",
    "Compile(model)"
   ]
  },
  {
   "cell_type": "code",
   "execution_count": 5,
   "id": "2f21720c-e21e-4bf7-a60b-369322b97eaa",
   "metadata": {},
   "outputs": [],
   "source": [
    "#model.fit(x_train,y_train,batch_size=1,epochs=5,shuffle=True)"
   ]
  },
  {
   "cell_type": "code",
   "execution_count": 6,
   "id": "4cb85611-6ce1-425e-8bd3-0dd1bcb62ed7",
   "metadata": {
    "tags": []
   },
   "outputs": [
    {
     "name": "stdout",
     "output_type": "stream",
     "text": [
      "x_train= (60000, 784) y_train (60000,)\n",
      "Epoch 1\n",
      "600/600 [==============================] - 9s 10ms/step - loss: 0.2485 - Accuracy: 0.9280 - val_loss: 0.1540 - val_Accuracy: 0.9602\n",
      "Epoch 2\n",
      "600/600 [==============================] - 9s 13ms/step - loss: 0.1561 - Accuracy: 0.9561 - val_loss: 0.1256 - val_Accuracy: 0.9677\n",
      "Epoch 3\n",
      "600/600 [==============================] - 8s 12ms/step - loss: 0.1148 - Accuracy: 0.9687 - val_loss: 0.1019 - val_Accuracy: 0.9721\n",
      "Epoch 4\n",
      "600/600 [==============================] - 8s 12ms/step - loss: 0.0896 - Accuracy: 0.9753 - val_loss: 0.1340 - val_Accuracy: 0.9695\n",
      "100/100 - 0s - loss: 0.1340 - Accuracy: 0.9695 - 418ms/epoch - 4ms/step\n",
      "[0.133996844291687, 0.9695000052452087]\n"
     ]
    }
   ],
   "source": [
    "print(\"x_train=\",x_train.shape,\"y_train\",y_train.shape)\n",
    "#Баг Tensorflow. Если выполнять сохранение, а потом обучать, то нейронка не может обучиться больше 10% и нужно заново скомпилировать, чтоб заработала\n",
    "model.save(\"saved_model_MNIST_Dense/MNIST_learn_epoch_start.h5\")\n",
    "Compile(model)\n",
    "for i in range(1,5):\n",
    "    print(\"Epoch \"+str(i))\n",
    "    model.save('saved_model_MNIST_Dense/MNIST_learn_epoch_start='+str(i)+\".h5\")\n",
    "    Compile(model)\n",
    "    model.fit(x_train,y_train,batch_size=100,epochs=1,shuffle=True,validation_data=(x_test,y_test),verbose=1)\n",
    "    \n",
    "    \n",
    "    model.save('saved_model_MNIST_Dense/MNIST_learn_epoch_end='+str(i)+\".h5\")\n",
    "    \n",
    "model.save(\"saved_model_MNIST_Dense/MNIST_learn_done.h5\")\n",
    "\n",
    "results=model.evaluate(x_test,y_test,batch_size=100,verbose=2)\n",
    "print(str(results))"
   ]
  },
  {
   "cell_type": "code",
   "execution_count": 7,
   "id": "70002ebd-dea9-4654-8348-6b849ed6bc29",
   "metadata": {},
   "outputs": [
    {
     "name": "stdout",
     "output_type": "stream",
     "text": [
      "Epoch 1/5\n",
      "600/600 [==============================] - 8s 11ms/step - loss: 0.0798 - Accuracy: 0.9765 - val_loss: 0.1315 - val_Accuracy: 0.9719\n",
      "Epoch 2/5\n",
      "600/600 [==============================] - 7s 12ms/step - loss: 0.0790 - Accuracy: 0.9770 - val_loss: 0.1373 - val_Accuracy: 0.9721\n",
      "Epoch 3/5\n",
      "600/600 [==============================] - 7s 12ms/step - loss: 0.0771 - Accuracy: 0.9770 - val_loss: 0.1386 - val_Accuracy: 0.9724\n",
      "Epoch 4/5\n",
      "600/600 [==============================] - 7s 11ms/step - loss: 0.0752 - Accuracy: 0.9777 - val_loss: 0.1348 - val_Accuracy: 0.9727\n",
      "Epoch 5/5\n",
      "600/600 [==============================] - 7s 12ms/step - loss: 0.0744 - Accuracy: 0.9776 - val_loss: 0.1352 - val_Accuracy: 0.9726\n"
     ]
    },
    {
     "data": {
      "text/plain": [
       "<keras.callbacks.History at 0x214b202f070>"
      ]
     },
     "execution_count": 7,
     "metadata": {},
     "output_type": "execute_result"
    }
   ],
   "source": [
    "\n",
    "def Compile(model):\n",
    "    model.compile(\n",
    "        #SparseCategoricalCrossentropy - ужастно работает на EMnist. CategoricalCrossentropy + категории топчик.\n",
    "        loss=losses.SparseCategoricalCrossentropy(from_logits=True),\n",
    "        optimizer=tf.optimizers.Adadelta(),\n",
    "        metrics=['Accuracy']#В данной задаче лучше, чем CategoricalAccuracy\n",
    "    )\n",
    "Compile(model)\n",
    "\n",
    "model.fit(x_train,y_train,batch_size=100,epochs=5,shuffle=True,validation_data=(x_test,y_test),verbose=1)"
   ]
  },
  {
   "cell_type": "code",
   "execution_count": 8,
   "id": "d414d1e4-01df-4018-9c15-6d3af2ca3bfe",
   "metadata": {
    "tags": []
   },
   "outputs": [
    {
     "name": "stdout",
     "output_type": "stream",
     "text": [
      "100/100 - 0s - loss: 0.1352 - Accuracy: 0.9726 - 413ms/epoch - 4ms/step\n"
     ]
    }
   ],
   "source": [
    "model.save(\"saved_model_MNIST_Dense/MNIST_learn_done2.h5\")\n",
    "results=model.evaluate(x_test,y_test,batch_size=100,verbose=2)\n",
    "#model.fit(x_train,y_train,batch_size=32,epochs=5)"
   ]
  },
  {
   "cell_type": "code",
   "execution_count": 5,
   "id": "b80a0a9c-40f1-460b-b3ed-4740bb659edf",
   "metadata": {},
   "outputs": [],
   "source": [
    "model=ModelCreate()\n",
    "Compile(model)\n",
    "model.load_weights(\"saved_model_MNIST_Dense/MNIST_learn_done2.h5\")"
   ]
  },
  {
   "cell_type": "code",
   "execution_count": 9,
   "id": "25924428-dbef-47ca-9819-544f29745779",
   "metadata": {},
   "outputs": [],
   "source": [
    "#model.load_weights(\"saved_model3/EMNIST_learn_epoch_start.h5\")"
   ]
  },
  {
   "cell_type": "code",
   "execution_count": 6,
   "id": "6186a282-2204-4b0e-8bd2-c08bd411cf03",
   "metadata": {},
   "outputs": [
    {
     "name": "stdout",
     "output_type": "stream",
     "text": [
      "313/313 - 1s - loss: 0.1352 - Accuracy: 0.9726 - 1s/epoch - 4ms/step\n",
      "[0.1351645439863205, 0.972599983215332]\n",
      "9574\n",
      "(28, 28, 3)\n",
      "(784,)\n",
      "1/1 [==============================] - 0s 131ms/step\n",
      "8\n"
     ]
    },
    {
     "data": {
      "image/png": "[encoded data removed]",
      "text/plain": [
       "<Figure size 640x480 with 1 Axes>"
      ]
     },
     "metadata": {},
     "output_type": "display_data"
    }
   ],
   "source": [
    "results=model.evaluate(x_test,y_test,batch_size=32,verbose=2)\n",
    "print(str(results))\n",
    "value=np.random.randint(0,10000)\n",
    "print(value)\n",
    "for id in range(len(y_train)):\n",
    "    #print(labels[id])\n",
    "    #break\n",
    "    #22 - M big\n",
    "    if(y_train.argmax()==7):\n",
    "        value=id\n",
    "        break\n",
    "        \n",
    "\n",
    "\n",
    "#print(x_train[value].shape)\n",
    "\n",
    "single=x_test[value]\n",
    "image=np.zeros((28,28,3))\n",
    "print(image.shape)\n",
    "\n",
    "for y in range(0,image.shape[0]):\n",
    "    for x in range(0,image.shape[1]):\n",
    "        for c in range(0,image.shape[2]):\n",
    "            image[y][x][c]=single[y*28+x]\n",
    "\n",
    "\n",
    "\n",
    "print(single.shape)\n",
    "#print(single)\n",
    "\n",
    "singleReady=np.zeros((1,28*28))\n",
    "\n",
    "for y in range(0,image.shape[0]):\n",
    "    for x in range(0,image.shape[1]):\n",
    "            singleReady[0][y*28+x]=single[y*28+x]\n",
    "\n",
    "print(model.predict(singleReady,batch_size=1).argmax())\n",
    "\n",
    "plt.imshow(image)\n",
    "plt.show()"
   ]
  },
  {
   "cell_type": "code",
   "execution_count": 8,
   "id": "d90177ee-7111-49bd-87de-fd4323a5947f",
   "metadata": {},
   "outputs": [
    {
     "name": "stdout",
     "output_type": "stream",
     "text": [
      "['0.png', '1.png']\n",
      "1/1 [==============================] - 0s 18ms/step\n",
      "9\n",
      "1/1 [==============================] - 0s 17ms/step\n",
      "1\n",
      "[9, 1]\n"
     ]
    }
   ],
   "source": [
    "from PIL import Image\n",
    "#model.save('saved_model_MNIST_Dense/MNIST_byclass_done.h5')\n",
    "def Recognize(model,image,size=28):\n",
    "    IMG = np.asarray(image)\n",
    "    IMG_2 = tf.keras.preprocessing.image.img_to_array(IMG)\n",
    "    OneChannelImage=np.zeros((28,28))\n",
    "    \n",
    "    for y in range(size):\n",
    "        for x in range(size):\n",
    "            OneChannelImage[y][x]=IMG_2[y][x][0]\n",
    "    ReadyIMG=OneChannelImage.reshape(-1,size*size)/255.\n",
    "    return model.predict(ReadyIMG,batch_size=1).argmax()\n",
    "\n",
    "def RecognizeInFolder(folderPath,model):\n",
    "    from os import walk\n",
    "\n",
    "    files = []\n",
    "    for (dirpath, dirnames, filenames) in walk(folderPath):\n",
    "        files.extend(filenames)\n",
    "        #print(filenames)\n",
    "        #break\n",
    "    print(files)\n",
    "    Images=[]\n",
    "    for name in files:\n",
    "        Images.append(ReadImage(folderPath+name))\n",
    "    #print(Images)\n",
    "    Results=[]\n",
    "    for Image in Images:\n",
    "        result=Recognize(model,Image)\n",
    "        Results.append(result)\n",
    "        print(result)\n",
    "    return Results\n",
    "def ReadImage(path):\n",
    "    return Image.open(path)\n",
    "Results=RecognizeInFolder(\"./DataToRecognize/\",model)\n",
    "\n",
    "print(Results)"
   ]
  },
  {
   "cell_type": "code",
   "execution_count": 26,
   "id": "28f6ad4b-c994-4c6b-9412-9b84fa1e51c6",
   "metadata": {},
   "outputs": [],
   "source": [
    "#results=model.evaluate(x_test,y_test,batch_size=32,verbose=2)\n",
    "#print(str(results))\n",
    "#value=np.random.randint(0,10000)\n",
    "\n",
    "id=7\n",
    "for v in y_train:\n",
    "    if(v.argmax()==id):\n",
    "        print(id)\n",
    "        ShowImage(v)\n",
    "        break\n",
    "        #id+=1\n",
    "currentIteration=0\n",
    "\n",
    "\n",
    "def ShowImage(value:int):\n",
    "    print(x_train[value].shape)\n",
    "\n",
    "    single=x_train[value]\n",
    "    image=np.zeros((28,28,3))\n",
    "    print(image.shape)\n",
    "\n",
    "    for y in range(0,image.shape[0]):\n",
    "        for x in range(0,image.shape[1]):\n",
    "            for c in range(0,image.shape[2]):\n",
    "                image[y,x,c]=single[y*28+x]\n",
    "\n",
    "\n",
    "\n",
    "    #print(single.shape)\n",
    "    #print(single)\n",
    "\n",
    "    #singleReady=np.zeros((1,28*28))\n",
    "\n",
    "    #for y in range(0,image.shape[0]):\n",
    "    #    for x in range(0,image.shape[1]):\n",
    "    #            singleReady[0][y*28+x]=single[y*28+x]\n",
    "\n",
    "    #print(model.predict(singleReady,batch_size=1).argmax())\n",
    "\n",
    "    plt.imshow(image)\n",
    "    plt.show()"
   ]
  },
  {
   "cell_type": "code",
   "execution_count": 13,
   "id": "86d82074-35d5-4ed4-842c-8f9e6e7a81ae",
   "metadata": {},
   "outputs": [],
   "source": [
    "from PIL import Image\n",
    "path='../2022.10.21/0.png'\n",
    "#path='Test/9.png'\n",
    "#IMG = np.asarray(Image.open('../2022.10.21/2.png'))\n",
    "IMG = np.asarray(Image.open(path))\n",
    "#IMG = tf.keras.preprocessing.image.load_img(path)"
   ]
  },
  {
   "cell_type": "code",
   "execution_count": 14,
   "id": "95b55033-6874-4064-a576-4b032543f4bc",
   "metadata": {},
   "outputs": [
    {
     "data": {
      "image/png": "[encoded data removed]",
      "text/plain": [
       "<Figure size 640x480 with 1 Axes>"
      ]
     },
     "metadata": {},
     "output_type": "display_data"
    },
    {
     "name": "stdout",
     "output_type": "stream",
     "text": [
      "(28, 28, 3)\n"
     ]
    },
    {
     "data": {
      "image/png": "[encoded data removed]",
      "text/plain": [
       "<Figure size 640x480 with 1 Axes>"
      ]
     },
     "metadata": {},
     "output_type": "display_data"
    }
   ],
   "source": [
    "plt.imshow(IMG)\n",
    "plt.show()\n",
    "print(IMG.shape)\n",
    "\n",
    "#IMG_2=np.zeros((1,28,28),dtype=\"float32\")\n",
    "\n",
    "\n",
    "#IMG_2=IMG.reshape(-1,28*28).astype(\"float32\")/255.\n",
    "IMG_2 = tf.keras.preprocessing.image.img_to_array(IMG)\n",
    "\n",
    "OneChannelImage=np.zeros((28,28))\n",
    "\n",
    "for y in range(28):\n",
    "    for x in range(28):\n",
    "        OneChannelImage[y][x]=IMG_2[y][x][0]\n",
    "\n",
    "plt.imshow(OneChannelImage)\n",
    "plt.show()\n",
    "\n",
    "ReadyIMG=OneChannelImage.reshape(-1,28*28)/255.\n",
    "\n",
    "#IMG_3 = np.array([IMG_2])\n",
    "#IMG_2 = np.expand_dims(IMG_2, -1)\n",
    "#print(IMG_2.shape)\n",
    "#print(IMG_3.shape)"
   ]
  },
  {
   "cell_type": "code",
   "execution_count": 15,
   "id": "c89da332-81e7-4a97-81fd-01a53ed022a6",
   "metadata": {},
   "outputs": [
    {
     "name": "stdout",
     "output_type": "stream",
     "text": [
      "1/1 [==============================] - 0s 20ms/step\n",
      "9\n"
     ]
    }
   ],
   "source": [
    "#print(model.predict(x_test[0],batch_size=1))\n",
    "print(model.predict(ReadyIMG,batch_size=1).argmax())\n",
    "#print(model.predict(IMG_2,batch_size=1).argmax())\n",
    "#print(model.predict(np.zeros((1,28*28)),batch_size=1).argmax())"
   ]
  },
  {
   "cell_type": "code",
   "execution_count": null,
   "id": "eecb0214-1699-4181-80c9-5b062c900e1b",
   "metadata": {},
   "outputs": [],
   "source": []
  }
 ],
 "metadata": {
  "kernelspec": {
   "display_name": "Python 3 (ipykernel)",
   "language": "python",
   "name": "python3"
  },
  "language_info": {
   "codemirror_mode": {
    "name": "ipython",
    "version": 3
   },
   "file_extension": ".py",
   "mimetype": "text/x-python",
   "name": "python",
   "nbconvert_exporter": "python",
   "pygments_lexer": "ipython3",
   "version": "3.7.0"
  }
 },
 "nbformat": 4,
 "nbformat_minor": 5
}
