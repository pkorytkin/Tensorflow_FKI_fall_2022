{
 "cells": [
  {
   "cell_type": "code",
   "execution_count": 1,
   "id": "ce3ea746-73ef-48d5-aa6c-ab067a72e8d9",
   "metadata": {},
   "outputs": [],
   "source": [
    "from matplotlib import pyplot as plt\n",
    "import tensorflow as tf\n",
    "#from tensorflow import keras\n",
    "#Используем костыль для исправления IntelliSense для keras по гайду:\n",
    "#https://stackoverflow.com/questions/71000250/import-tensorflow-keras-could-not-be-resolved-after-upgrading-to-tensorflow-2\n",
    "import keras.api._v2.keras as keras\n",
    "from keras import layers\n",
    "from keras import losses\n",
    "from keras.datasets import mnist\n",
    "import numpy as np\n",
    "from emnist import list_datasets"
   ]
  },
  {
   "cell_type": "code",
   "execution_count": 2,
   "id": "b69d7948-26fb-454c-8257-28ada65466f2",
   "metadata": {},
   "outputs": [
    {
     "name": "stdout",
     "output_type": "stream",
     "text": [
      "['balanced', 'byclass', 'bymerge', 'digits', 'letters', 'mnist']\n",
      "\n",
      "Train X=(60000, 28, 28, 1), y=(60000, 10)\n",
      "Train X=(60000, 28, 28, 1), y=(60000, 10)\n",
      "Test X=(10000, 28, 28, 1), y=(10000, 10)\n",
      "(28, 28, 1)\n"
     ]
    }
   ],
   "source": [
    "print(list_datasets())\n",
    "\n",
    "(x_train,y_train), (x_test,y_test)=mnist.load_data()\n",
    "\n",
    "#from emnist import extract_training_samples\n",
    "#x_train, y_train = extract_training_samples('digits')\n",
    "#x_train, y_train = extract_training_samples('byclass')\n",
    "#x_train, y_train = extract_training_samples('letters')\n",
    "\n",
    "num_classes=10\n",
    "input_shape = (28, 28, 1)\n",
    "\n",
    "x_train=x_train.astype('float32')/255.0\n",
    "x_test=x_test.astype('float32')/255.0\n",
    "\n",
    "x_train = np.expand_dims(x_train, -1)\n",
    "x_test = np.expand_dims(x_test, -1)\n",
    "\n",
    "y_train = keras.utils.to_categorical(y_train, num_classes)\n",
    "y_test = keras.utils.to_categorical(y_test, num_classes)\n",
    "\n",
    "#x_train_l, y_train_l = extract_training_samples('letters')\n",
    "\n",
    "print()\n",
    "\n",
    "\n",
    "print(\"Train X=%s, y=%s\"%(x_train.shape,y_train.shape))\n",
    "#print(\"Train Letters X=%s, y=%s\"%(x_train_l.shape,y_train_l.shape))\n",
    "#print(\"Test X=%s, y=%s\"%(x_test1.shape,y_test.shape))\n",
    "\n",
    "\n",
    "\n",
    "print(\"Train X=%s, y=%s\"%(x_train.shape,y_train.shape))\n",
    "print(\"Test X=%s, y=%s\"%(x_test.shape,y_test.shape))\n",
    "print(x_test[0].shape)"
   ]
  },
  {
   "cell_type": "code",
   "execution_count": 77,
   "id": "4415ec0d-cc5a-4cab-b2ff-27ea927c103f",
   "metadata": {},
   "outputs": [
    {
     "name": "stdout",
     "output_type": "stream",
     "text": [
      "(None, 10)\n",
      "Model: \"sequential_2\"\n",
      "_________________________________________________________________\n",
      " Layer (type)                Output Shape              Param #   \n",
      "=================================================================\n",
      " flatten_2 (Flatten)         (None, 784)               0         \n",
      "                                                                 \n",
      " dense_6 (Dense)             (None, 1568)              1230880   \n",
      "                                                                 \n",
      " dense_7 (Dense)             (None, 784)               1230096   \n",
      "                                                                 \n",
      " dense_8 (Dense)             (None, 512)               401920    \n",
      "                                                                 \n",
      " dense_9 (Dense)             (None, 256)               131328    \n",
      "                                                                 \n",
      " dense_10 (Dense)            (None, 128)               32896     \n",
      "                                                                 \n",
      " dense_11 (Dense)            (None, 10)                1290      \n",
      "                                                                 \n",
      "=================================================================\n",
      "Total params: 3,028,410\n",
      "Trainable params: 3,028,410\n",
      "Non-trainable params: 0\n",
      "_________________________________________________________________\n",
      "None\n"
     ]
    }
   ],
   "source": [
    "model=keras.Sequential(\n",
    "    [\n",
    "        keras.Input(shape=input_shape),\n",
    "        \n",
    "        #layers.Conv2D(32, kernel_size=(14, 14), activation=\"relu\",use_bias=True,\n",
    "        #                                kernel_initializer=tf.keras.initializers.glorot_normal(),\n",
    "        #                                bias_initializer=tf.keras.initializers.zeros()),\n",
    "        #layers.MaxPooling2D(pool_size=(2, 2)),\n",
    "        #layers.Conv2D(64, kernel_size=(7, 7), activation=\"relu\",use_bias=True,\n",
    "        #                                kernel_initializer=tf.keras.initializers.glorot_normal(),\n",
    "        #                                bias_initializer=tf.keras.initializers.zeros()),\n",
    "        #layers.MaxPooling2D(pool_size=(2, 2)),\n",
    "        layers.Flatten(),\n",
    "        #layers.Dense(28*28*2),\n",
    "        layers.Dense(28*28),\n",
    "        layers.Dense(512),\n",
    "        layers.Dense(256),\n",
    "        layers.Dense(128),\n",
    "        #layers.Dropout(0.5),\n",
    "        layers.Dense(num_classes, activation=\"softmax\"),\n",
    "    ]#52 Буквы, 10 цифрф\n",
    " )\n",
    "print(model.output_shape)\n",
    "print(str(model.summary()))"
   ]
  },
  {
   "cell_type": "code",
   "execution_count": 78,
   "id": "cecdd65d-85e3-4639-b128-63b390d07ff1",
   "metadata": {},
   "outputs": [],
   "source": [
    "model.compile(\n",
    "    #SparseCategoricalCrossentropy - ужастно работает на EMnist. CategoricalCrossentropy + категории топчик.\n",
    "    loss=losses.CategoricalCrossentropy(),\n",
    "    optimizer=tf.optimizers.Adadelta(),\n",
    "    metrics=['accuracy']\n",
    ")"
   ]
  },
  {
   "cell_type": "code",
   "execution_count": 18,
   "id": "2f21720c-e21e-4bf7-a60b-369322b97eaa",
   "metadata": {},
   "outputs": [],
   "source": [
    "#model.fit(x_train,y_train,batch_size=1,epochs=5,shuffle=True)"
   ]
  },
  {
   "cell_type": "code",
   "execution_count": 80,
   "id": "4cb85611-6ce1-425e-8bd3-0dd1bcb62ed7",
   "metadata": {
    "tags": []
   },
   "outputs": [
    {
     "name": "stdout",
     "output_type": "stream",
     "text": [
      "x_train= (60000, 28, 28, 1) y_train (60000, 10)\n",
      "EpochsPerPart=5 PartsCount=1\n",
      "(60000, 28, 28, 1) (60000, 10)\n",
      "Epoch 0\n",
      "600/600 [==============================] - 20s 33ms/step - loss: 0.8101 - accuracy: 0.8159 - val_loss: 0.6375 - val_accuracy: 0.8494\n",
      "100/100 - 1s - loss: 0.6375 - accuracy: 0.8494 - 1s/epoch - 11ms/step\n",
      "[0.63750821352005, 0.849399983882904]\n",
      "Epoch 1\n",
      "600/600 [==============================] - 20s 33ms/step - loss: 0.5887 - accuracy: 0.8525 - val_loss: 0.5085 - val_accuracy: 0.8687\n",
      "100/100 - 1s - loss: 0.5085 - accuracy: 0.8687 - 1s/epoch - 11ms/step\n",
      "[0.5085234642028809, 0.8687000274658203]\n",
      "Epoch 2\n",
      "600/600 [==============================] - 20s 33ms/step - loss: 0.4978 - accuracy: 0.8685 - val_loss: 0.4464 - val_accuracy: 0.8810\n",
      "100/100 - 1s - loss: 0.4464 - accuracy: 0.8810 - 1s/epoch - 11ms/step\n",
      "[0.446363627910614, 0.8809999823570251]\n",
      "Epoch 3\n",
      "600/600 [==============================] - 20s 33ms/step - loss: 0.4493 - accuracy: 0.8780 - val_loss: 0.4102 - val_accuracy: 0.8871\n",
      "100/100 - 1s - loss: 0.4102 - accuracy: 0.8871 - 1s/epoch - 11ms/step\n",
      "[0.4102305769920349, 0.8870999813079834]\n",
      "Epoch 4\n",
      "600/600 [==============================] - 20s 33ms/step - loss: 0.4191 - accuracy: 0.8846 - val_loss: 0.3869 - val_accuracy: 0.8931\n",
      "100/100 - 1s - loss: 0.3869 - accuracy: 0.8931 - 1s/epoch - 10ms/step\n",
      "[0.3868772089481354, 0.8931000232696533]\n"
     ]
    }
   ],
   "source": [
    "print(\"x_train=\",x_train.shape,\"y_train\",y_train.shape)\n",
    "model.save(\"saved_model_MNIST_CNN/EMNIST_learn_epoch_start.h5\")\n",
    "#PartsCount=10\n",
    "PartsCount=1\n",
    "EpochsPerPart=5\n",
    "print(\"EpochsPerPart=\"+str(EpochsPerPart)+\" PartsCount=\"+str(PartsCount))\n",
    "print(x_train.shape,y_train.shape)\n",
    "'''for partID in range(0,PartsCount):\n",
    "    #print(partID*x_train.shape[0]/PartsCount,np.min(((partID+1)*(x_train.shape[0]/PartsCount),x_train.shape[0])))\n",
    "    from_ID=int(partID*(x_train.shape[0]/PartsCount))\n",
    "    to_ID=int(np.min(((partID+1)*(x_train.shape[0]/PartsCount),x_train.shape[0])))\n",
    "    part_X=x_train[from_ID:to_ID]\n",
    "    part_Y=y_train[from_ID:to_ID]\n",
    "    print(\"From=\"+str(from_ID)+\" To=\"+str(to_ID))\n",
    "    print(part_X.shape,part_Y.shape)\n",
    "    for i in range(0,EpochsPerPart):\n",
    "        print(\"Epoch \"+str(i))\n",
    "        model.save('saved_model_CNN2_Parted/epoch_start='+str(i)+\".h5\")\n",
    "        model.fit(x_train,y_train,batch_size=100,epochs=1,shuffle=True,validation_data=(x_test,y_test))\n",
    "        #,validation_data=(x_test,y_test)\n",
    "        results=model.evaluate(x_test,y_test,batch_size=100,verbose=2)\n",
    "        print(str(results))\n",
    "        model.save('saved_model_CNN2_Parted/epoch_end='+str(i)+\".h5\")'''\n",
    "\n",
    "for i in range(0,EpochsPerPart):\n",
    "        print(\"Epoch \"+str(i))\n",
    "        model.save('saved_model_CNN2_Parted/epoch_start='+str(i)+\".h5\")\n",
    "        model.fit(x_train,y_train,batch_size=100,epochs=1,shuffle=True,validation_data=(x_test,y_test))\n",
    "        #,validation_data=(x_test,y_test)\n",
    "        results=model.evaluate(x_test,y_test,batch_size=100,verbose=2)\n",
    "        print(str(results))\n",
    "        model.save('saved_model_CNN2_Parted/epoch_end='+str(i)+\".h5\")\n",
    "model.save(\"saved_model_CNN2_Parted/learn_done.h5\")"
   ]
  },
  {
   "cell_type": "code",
   "execution_count": null,
   "id": "d414d1e4-01df-4018-9c15-6d3af2ca3bfe",
   "metadata": {
    "tags": []
   },
   "outputs": [],
   "source": [
    "#model.fit(x_train,y_train,batch_size=32,epochs=5)"
   ]
  },
  {
   "cell_type": "code",
   "execution_count": null,
   "id": "b80a0a9c-40f1-460b-b3ed-4740bb659edf",
   "metadata": {},
   "outputs": [],
   "source": []
  },
  {
   "cell_type": "code",
   "execution_count": 5,
   "id": "25924428-dbef-47ca-9819-544f29745779",
   "metadata": {},
   "outputs": [],
   "source": [
    "model.load_weights(\"saved_model_CNN2_Parted/learn_done.h5\")"
   ]
  },
  {
   "cell_type": "code",
   "execution_count": null,
   "id": "6186a282-2204-4b0e-8bd2-c08bd411cf03",
   "metadata": {},
   "outputs": [
    {
     "name": "stdout",
     "output_type": "stream",
     "text": [
      "313/313 - 3s - loss: 0.9122 - accuracy: 0.7163 - 3s/epoch - 9ms/step\n",
      "[0.9122095704078674, 0.7163000106811523]\n",
      "641\n"
     ]
    }
   ],
   "source": [
    "results=model.evaluate(x_test,y_test,batch_size=32,verbose=2)\n",
    "print(str(results))\n",
    "value=np.random.randint(0,10000)\n",
    "print(value)\n",
    "for id in range(len(y_train)):\n",
    "    #print(labels[id])\n",
    "    #break\n",
    "    #22 - M big\n",
    "    if(y_train.argmax()==7):\n",
    "        value=id\n",
    "        break\n",
    "        \n",
    "\n",
    "\n",
    "#print(x_train[value].shape)\n",
    "\n",
    "single=x_train[value]\n",
    "image=np.zeros((28,28,3))\n",
    "print(image.shape)\n",
    "\n",
    "for y in range(0,image.shape[0]):\n",
    "    for x in range(0,image.shape[1]):\n",
    "        for c in range(0,image.shape[2]):\n",
    "            image[y,x,c]=single[y][x]\n",
    "\n",
    "\n",
    "\n",
    "print(single.shape)\n",
    "#print(single)\n",
    "\n",
    "singleReady=np.zeros((1,28,28))\n",
    "\n",
    "for y in range(0,image.shape[0]):\n",
    "    for x in range(0,image.shape[1]):\n",
    "            singleReady[0][y][x]=single[y][x]\n",
    "\n",
    "print(model.predict(singleReady,batch_size=1).argmax())\n",
    "\n",
    "plt.imshow(image)\n",
    "plt.show()"
   ]
  },
  {
   "cell_type": "code",
   "execution_count": null,
   "id": "d90177ee-7111-49bd-87de-fd4323a5947f",
   "metadata": {},
   "outputs": [],
   "source": [
    "#model.save('saved_model_CNN2_Parted/EMNIST_byclass_done.h5')"
   ]
  },
  {
   "cell_type": "code",
   "execution_count": null,
   "id": "28f6ad4b-c994-4c6b-9412-9b84fa1e51c6",
   "metadata": {},
   "outputs": [],
   "source": [
    "#results=model.evaluate(x_test,y_test,batch_size=32,verbose=2)\n",
    "#print(str(results))\n",
    "#value=np.random.randint(0,10000)\n",
    "\n",
    "id=22\n",
    "for v in y_train:\n",
    "    if(v.argmax()==id):\n",
    "        print(id)\n",
    "        ShowImage(v)\n",
    "        break\n",
    "        #id+=1\n",
    "currentIteration=0\n",
    "'''for v in y_train:\n",
    "    if(v==id):\n",
    "        print(id,v)\n",
    "        ShowImage(v)\n",
    "        currentIteration+=1\n",
    "        id+=1    \n",
    "    if(currentIteration==10):\n",
    "        break'''\n",
    "\n",
    "\n",
    "def ShowImage(value:int):\n",
    "    print(x_train[value].shape)\n",
    "\n",
    "    single=x_train[value]\n",
    "    image=np.zeros((28,28,3))\n",
    "    print(image.shape)\n",
    "\n",
    "    for y in range(0,image.shape[0]):\n",
    "        for x in range(0,image.shape[1]):\n",
    "            for c in range(0,image.shape[2]):\n",
    "                image[y,x,c]=single[y*28+x]\n",
    "\n",
    "\n",
    "\n",
    "    #print(single.shape)\n",
    "    #print(single)\n",
    "\n",
    "    #singleReady=np.zeros((1,28*28))\n",
    "\n",
    "    #for y in range(0,image.shape[0]):\n",
    "    #    for x in range(0,image.shape[1]):\n",
    "    #            singleReady[0][y*28+x]=single[y*28+x]\n",
    "\n",
    "    #print(model.predict(singleReady,batch_size=1).argmax())\n",
    "\n",
    "    plt.imshow(image)\n",
    "    plt.show()"
   ]
  },
  {
   "cell_type": "code",
   "execution_count": 65,
   "id": "86d82074-35d5-4ed4-842c-8f9e6e7a81ae",
   "metadata": {},
   "outputs": [],
   "source": [
    "from PIL import Image\n",
    "#IMG = np.asarray(Image.open('E:/JupyterLab/Tensorflow_FKI_fall_2022/2022.10.14/9.png'))\n",
    "#C:\\Users\\PlayerBook4\\JupyterLab\\Tensorflow_FKI_fall_2022\\Tensorflow_Segmentator\n",
    "IMG = np.asarray(Image.open('C:/Users/PlayerBook4/JupyterLab/Tensorflow_FKI_fall_2022/Tensorflow_Segmentator/croped 0.png'))"
   ]
  },
  {
   "cell_type": "code",
   "execution_count": 66,
   "id": "58256c80-1153-45fa-b1d4-f879e773b14b",
   "metadata": {},
   "outputs": [
    {
     "name": "stdout",
     "output_type": "stream",
     "text": [
      "313/313 - 1s - loss: 0.4709 - accuracy: 0.8783 - 1s/epoch - 4ms/step\n",
      "[0.47089219093322754, 0.8783000111579895]\n"
     ]
    },
    {
     "data": {
      "image/png": "[encoded data removed]",
      "text/plain": [
       "<Figure size 640x480 with 1 Axes>"
      ]
     },
     "metadata": {},
     "output_type": "display_data"
    },
    {
     "name": "stdout",
     "output_type": "stream",
     "text": [
      "(28, 28)\n",
      "(1, 28, 28)\n"
     ]
    }
   ],
   "source": [
    "results=model.evaluate(x_test,y_test,batch_size=32,verbose=2)\n",
    "print(str(results))\n",
    "\n",
    "plt.imshow(IMG)\n",
    "plt.show()\n",
    "print(IMG.shape)\n",
    "\n",
    "IMG_2=np.zeros((1,28,28),dtype=\"float32\")\n",
    "\n",
    "for x in range(28):\n",
    "    for y in range(28):\n",
    "        IMG_2[0][y][x]=IMG[y][x]/255.\n",
    "print(IMG_2.shape)\n",
    "#plt.imshow(IMG_2)\n",
    "#plt.show()"
   ]
  },
  {
   "cell_type": "code",
   "execution_count": 81,
   "id": "dc9aca82-bc55-4ef8-8c2d-00637a9cc6d4",
   "metadata": {},
   "outputs": [
    {
     "name": "stdout",
     "output_type": "stream",
     "text": [
      "1/1 [==============================] - 0s 160ms/step\n",
      "4\n"
     ]
    }
   ],
   "source": [
    "print(model.predict(IMG_2,batch_size=1).argmax())"
   ]
  },
  {
   "cell_type": "code",
   "execution_count": null,
   "id": "389c7c75-55ef-40b2-9d36-a6eb5e4970a3",
   "metadata": {},
   "outputs": [],
   "source": []
  }
 ],
 "metadata": {
  "kernelspec": {
   "display_name": "Python 3 (ipykernel)",
   "language": "python",
   "name": "python3"
  },
  "language_info": {
   "codemirror_mode": {
    "name": "ipython",
    "version": 3
   },
   "file_extension": ".py",
   "mimetype": "text/x-python",
   "name": "python",
   "nbconvert_exporter": "python",
   "pygments_lexer": "ipython3",
   "version": "3.7.0"
  }
 },
 "nbformat": 4,
 "nbformat_minor": 5
}
