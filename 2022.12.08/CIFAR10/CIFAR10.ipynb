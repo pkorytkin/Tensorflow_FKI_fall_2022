{
 "cells": [
  {
   "cell_type": "code",
   "execution_count": 1,
   "id": "51261624-02b8-49be-b7bf-38620150ec79",
   "metadata": {},
   "outputs": [
    {
     "name": "stderr",
     "output_type": "stream",
     "text": [
      "C:\\Users\\PlayerPC\\Miniconda3\\envs\\tf\\lib\\site-packages\\tqdm\\auto.py:22: TqdmWarning: IProgress not found. Please update jupyter and ipywidgets. See https://ipywidgets.readthedocs.io/en/stable/user_install.html\n",
      "  from .autonotebook import tqdm as notebook_tqdm\n"
     ]
    }
   ],
   "source": [
    "import cv2\n",
    "from matplotlib import pyplot as plt\n",
    "import tensorflow as tf\n",
    "#from tensorflow import keras\n",
    "#Используем костыль для исправления IntelliSense для keras по гайду:\n",
    "#https://stackoverflow.com/questions/71000250/import-tensorflow-keras-could-not-be-resolved-after-upgrading-to-tensorflow-2\n",
    "import keras.api._v2.keras as keras\n",
    "from keras import layers\n",
    "from keras import losses\n",
    "#from keras.datasets import CIFAR100\n",
    "import numpy as np\n",
    "import tensorflow_datasets as tfds"
   ]
  },
  {
   "cell_type": "code",
   "execution_count": 2,
   "id": "f419e81f-16e8-49d2-b3ac-1c2328bd8ae2",
   "metadata": {},
   "outputs": [
    {
     "name": "stdout",
     "output_type": "stream",
     "text": [
      "\n",
      "Train X=(50000, 32, 32, 3, 1), y=(50000, 10)\n",
      "Train X=(50000, 32, 32, 3, 1), y=(50000, 10)\n",
      "Test X=(10000, 32, 32, 3, 1), y=(10000, 10)\n",
      "(32, 32, 3, 1)\n"
     ]
    }
   ],
   "source": [
    "\n",
    "(x_train, y_train), (x_test, y_test) = keras.datasets.cifar10.load_data()\n",
    "\n",
    "num_classes=10\n",
    "input_shape = (32, 32, 3)\n",
    "\n",
    "x_train=x_train.astype('float32')/255.0\n",
    "x_test=x_test.astype('float32')/255.0\n",
    "\n",
    "x_train = np.expand_dims(x_train, -1)\n",
    "x_test = np.expand_dims(x_test, -1)\n",
    "\n",
    "y_train = keras.utils.to_categorical(y_train, num_classes)\n",
    "y_test = keras.utils.to_categorical(y_test, num_classes)\n",
    "#x_train_l, y_train_l = extract_training_samples('letters')\n",
    "\n",
    "print()\n",
    "\n",
    "\n",
    "print(\"Train X=%s, y=%s\"%(x_train.shape,y_train.shape))\n",
    "#print(\"Train Letters X=%s, y=%s\"%(x_train_l.shape,y_train_l.shape))\n",
    "#print(\"Test X=%s, y=%s\"%(x_test1.shape,y_test.shape))\n",
    "\n",
    "\n",
    "\n",
    "print(\"Train X=%s, y=%s\"%(x_train.shape,y_train.shape))\n",
    "print(\"Test X=%s, y=%s\"%(x_test.shape,y_test.shape))\n",
    "print(x_test[0].shape)\n",
    "\n"
   ]
  },
  {
   "cell_type": "code",
   "execution_count": 3,
   "id": "e875fef7-cb87-49c5-8e57-c2ec0f74dafb",
   "metadata": {},
   "outputs": [],
   "source": [
    "from keras.layers import Convolution2D, Input\n",
    "\n",
    "def define_skip_model():\n",
    "    inputs = keras.Input(shape=input_shape, name=\"img\")\n",
    "    x = layers.BatchNormalization()(inputs)\n",
    "    #x = layers.Dropout(0.2)(x)\n",
    "    x = layers.Conv2D(128, 3, activation=\"relu\")(x)\n",
    "    x = layers.Conv2D(128, 3, activation=\"relu\")(x)\n",
    "    x = layers.BatchNormalization()(x)\n",
    "    #x = layers.Dropout(0.2)(x)\n",
    "    block_1_output = layers.MaxPooling2D(3)(x)\n",
    "    #block_1_output = layers.BatchNormalization()(block_1_output)\n",
    "    \n",
    "    x = layers.Conv2D(128, 3, activation=\"relu\", padding=\"same\")(block_1_output)\n",
    "    x = layers.Conv2D(128, 3, activation=\"relu\", padding=\"same\")(x)\n",
    "    x = layers.BatchNormalization()(x)\n",
    "    x = layers.Dropout(0.2)(x)\n",
    "    block_2_output = layers.concatenate([x, block_1_output])\n",
    "    \n",
    "    #block_2_output = layers.BatchNormalization()(block_2_output)\n",
    "    x = layers.Conv2D(128, 3, activation=\"relu\")(block_2_output)\n",
    "    x = layers.GlobalAveragePooling2D()(x)\n",
    "    #x = layers.Dense(256, activation=\"relu\")(x)\n",
    "    x = layers.Dropout(0.5)(x)\n",
    "    outputs = layers.Dense(num_classes, activation=\"softmax\")(x)\n",
    "    model = keras.Model(inputs, outputs, name=\"toy_resnet\")\n",
    "    return model\n",
    "model=define_skip_model()"
   ]
  },
  {
   "cell_type": "code",
   "execution_count": 4,
   "id": "3e2347a8-1f1d-4fdd-a7b3-41edeb3973f8",
   "metadata": {},
   "outputs": [],
   "source": [
    "model.load_weights(\"ready.h5\")"
   ]
  },
  {
   "cell_type": "code",
   "execution_count": 118,
   "id": "48e22845-bf43-46bd-86c3-7a749b154689",
   "metadata": {},
   "outputs": [],
   "source": [
    "model.compile(\n",
    "    loss=losses.CategoricalCrossentropy(),\n",
    "    optimizer=tf.optimizers.Adam(lr=0.01),\n",
    "    metrics=['accuracy']\n",
    ")"
   ]
  },
  {
   "cell_type": "code",
   "execution_count": 119,
   "id": "4f1bffb5-b5f9-4181-9443-d8dc2ce9ff1a",
   "metadata": {
    "tags": []
   },
   "outputs": [
    {
     "name": "stdout",
     "output_type": "stream",
     "text": [
      "Epoch 1/10\n",
      "100/100 [==============================] - 20s 152ms/step - loss: 2.0718 - accuracy: 0.2907 - val_loss: 2.1148 - val_accuracy: 0.2561\n",
      "Epoch 2/10\n",
      "100/100 [==============================] - 15s 153ms/step - loss: 1.5601 - accuracy: 0.4225 - val_loss: 2.2897 - val_accuracy: 0.2479\n",
      "Epoch 3/10\n",
      "100/100 [==============================] - 15s 155ms/step - loss: 1.3512 - accuracy: 0.5136 - val_loss: 1.9127 - val_accuracy: 0.3545\n",
      "Epoch 4/10\n",
      "100/100 [==============================] - 15s 150ms/step - loss: 1.1681 - accuracy: 0.5863 - val_loss: 1.5006 - val_accuracy: 0.4865\n",
      "Epoch 5/10\n",
      "100/100 [==============================] - 15s 149ms/step - loss: 1.0267 - accuracy: 0.6385 - val_loss: 0.9902 - val_accuracy: 0.6491\n",
      "Epoch 6/10\n",
      "100/100 [==============================] - 15s 148ms/step - loss: 0.9095 - accuracy: 0.6819 - val_loss: 0.9401 - val_accuracy: 0.6770\n",
      "Epoch 7/10\n",
      "100/100 [==============================] - 15s 149ms/step - loss: 0.8328 - accuracy: 0.7094 - val_loss: 0.8707 - val_accuracy: 0.7017\n",
      "Epoch 8/10\n",
      "100/100 [==============================] - 15s 149ms/step - loss: 0.7610 - accuracy: 0.7364 - val_loss: 0.9949 - val_accuracy: 0.6571\n",
      "Epoch 9/10\n",
      "100/100 [==============================] - 15s 149ms/step - loss: 0.7141 - accuracy: 0.7543 - val_loss: 0.7251 - val_accuracy: 0.7501\n",
      "Epoch 10/10\n",
      "100/100 [==============================] - 15s 149ms/step - loss: 0.6543 - accuracy: 0.7753 - val_loss: 0.7096 - val_accuracy: 0.7521\n"
     ]
    },
    {
     "data": {
      "text/plain": [
       "<keras.callbacks.History at 0x1f6c0f53fd0>"
      ]
     },
     "execution_count": 119,
     "metadata": {},
     "output_type": "execute_result"
    }
   ],
   "source": [
    "model.fit(x_train,y_train,batch_size=500,epochs=10,shuffle=True,validation_data=(x_test,y_test))#"
   ]
  },
  {
   "cell_type": "code",
   "execution_count": 5,
   "id": "0ec5920a-73f1-44e4-a12f-1532e3f40849",
   "metadata": {},
   "outputs": [
    {
     "name": "stderr",
     "output_type": "stream",
     "text": [
      "C:\\Users\\PlayerPC\\Miniconda3\\envs\\tf\\lib\\site-packages\\keras\\optimizers\\optimizer_v2\\adam.py:114: UserWarning: The `lr` argument is deprecated, use `learning_rate` instead.\n",
      "  super().__init__(name, **kwargs)\n"
     ]
    }
   ],
   "source": [
    "model.compile(\n",
    "    loss=losses.CategoricalCrossentropy(),\n",
    "    optimizer=tf.optimizers.Adam(lr=0.001),\n",
    "    metrics=['accuracy']\n",
    ")"
   ]
  },
  {
   "cell_type": "code",
   "execution_count": 6,
   "id": "99e77860-bd55-4239-9a03-47a8ec9ad453",
   "metadata": {},
   "outputs": [
    {
     "name": "stdout",
     "output_type": "stream",
     "text": [
      "Epoch 1/5\n",
      "100/100 [==============================] - 24s 145ms/step - loss: 0.5222 - accuracy: 0.8173 - val_loss: 0.5683 - val_accuracy: 0.8058\n",
      "Epoch 2/5\n",
      "100/100 [==============================] - 14s 141ms/step - loss: 0.4706 - accuracy: 0.8348 - val_loss: 0.5625 - val_accuracy: 0.8078\n",
      "Epoch 3/5\n",
      "100/100 [==============================] - 14s 141ms/step - loss: 0.4456 - accuracy: 0.8434 - val_loss: 0.5671 - val_accuracy: 0.8086\n",
      "Epoch 4/5\n",
      "100/100 [==============================] - 14s 141ms/step - loss: 0.4240 - accuracy: 0.8506 - val_loss: 0.5500 - val_accuracy: 0.8119\n",
      "Epoch 5/5\n",
      "100/100 [==============================] - 14s 141ms/step - loss: 0.4115 - accuracy: 0.8558 - val_loss: 0.5515 - val_accuracy: 0.8156\n"
     ]
    },
    {
     "data": {
      "text/plain": [
       "<keras.callbacks.History at 0x1f23d64eaf0>"
      ]
     },
     "execution_count": 6,
     "metadata": {},
     "output_type": "execute_result"
    }
   ],
   "source": [
    "model.fit(x_train,y_train,batch_size=500,epochs=5,shuffle=True,validation_data=(x_test,y_test))#"
   ]
  },
  {
   "cell_type": "code",
   "execution_count": 7,
   "id": "fc4c5bd0-a126-4eea-825f-56a2b3e6430d",
   "metadata": {},
   "outputs": [],
   "source": [
    "model.save(\"ready.h5\")"
   ]
  },
  {
   "cell_type": "code",
   "execution_count": 16,
   "id": "3abf5653-3969-4934-96ca-537cc35fa0c1",
   "metadata": {},
   "outputs": [
    {
     "data": {
      "image/png": "[encoded data removed]",
      "text/plain": [
       "<Figure size 640x480 with 1 Axes>"
      ]
     },
     "metadata": {},
     "output_type": "display_data"
    },
    {
     "name": "stdout",
     "output_type": "stream",
     "text": [
      "(1, 32, 32, 3)\n",
      "1/1 [==============================] - 0s 20ms/step\n",
      "3 3\n"
     ]
    }
   ],
   "source": [
    "#model.evaluate(x_test,y_test)\n",
    "id=np.random.randint(0,x_test.shape[0])\n",
    "im = x_test[id]\n",
    "\n",
    "\n",
    "\n",
    "im=im.astype('float32')/255.0\n",
    "im=im.reshape((1,32,32,3))\n",
    "\n",
    "from matplotlib import pyplot as plt\n",
    "plt.imshow((im*255.0).reshape((32,32,3)), interpolation='nearest')\n",
    "plt.show()\n",
    "\n",
    "\n",
    "print(im.shape)\n",
    "#print(model.predict(x_test,batch_size=1).argmax())\n",
    "print(model.predict(im,batch_size=1).argmax(),y_test[id].argmax())\n",
    "#print(y_test[id])"
   ]
  },
  {
   "cell_type": "code",
   "execution_count": null,
   "id": "a6ea14f1-f19f-4274-a903-f17eb5de48f5",
   "metadata": {},
   "outputs": [],
   "source": []
  },
  {
   "cell_type": "code",
   "execution_count": null,
   "id": "084e59d6-7358-4628-8fbf-be011eb80e32",
   "metadata": {},
   "outputs": [],
   "source": []
  },
  {
   "cell_type": "code",
   "execution_count": null,
   "id": "b35b71c2-e8bc-46b3-8052-4c4aaa857eab",
   "metadata": {},
   "outputs": [],
   "source": []
  }
 ],
 "metadata": {
  "kernelspec": {
   "display_name": "Python 3 (ipykernel)",
   "language": "python",
   "name": "python3"
  },
  "language_info": {
   "codemirror_mode": {
    "name": "ipython",
    "version": 3
   },
   "file_extension": ".py",
   "mimetype": "text/x-python",
   "name": "python",
   "nbconvert_exporter": "python",
   "pygments_lexer": "ipython3",
   "version": "3.9.13"
  }
 },
 "nbformat": 4,
 "nbformat_minor": 5
}
