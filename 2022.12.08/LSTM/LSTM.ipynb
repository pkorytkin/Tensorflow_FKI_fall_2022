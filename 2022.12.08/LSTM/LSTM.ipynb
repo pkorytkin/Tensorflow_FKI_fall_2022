{
 "cells": [
  {
   "cell_type": "code",
   "execution_count": 17,
   "id": "4852dc4e-9c4f-43f0-a58b-10e8d90c1772",
   "metadata": {},
   "outputs": [
    {
     "data": {
      "text/html": [
       "<div>\n",
       "<style scoped>\n",
       "    .dataframe tbody tr th:only-of-type {\n",
       "        vertical-align: middle;\n",
       "    }\n",
       "\n",
       "    .dataframe tbody tr th {\n",
       "        vertical-align: top;\n",
       "    }\n",
       "\n",
       "    .dataframe thead th {\n",
       "        text-align: right;\n",
       "    }\n",
       "</style>\n",
       "<table border=\"1\" class=\"dataframe\">\n",
       "  <thead>\n",
       "    <tr style=\"text-align: right;\">\n",
       "      <th></th>\n",
       "      <th>part</th>\n",
       "      <th>movie_name</th>\n",
       "      <th>review_id</th>\n",
       "      <th>author</th>\n",
       "      <th>date</th>\n",
       "      <th>title</th>\n",
       "      <th>grade3</th>\n",
       "      <th>grade10</th>\n",
       "      <th>content</th>\n",
       "    </tr>\n",
       "  </thead>\n",
       "  <tbody>\n",
       "    <tr>\n",
       "      <th>22163</th>\n",
       "      <td>top250</td>\n",
       "      <td>Трасса 60 (2002)</td>\n",
       "      <td>26691</td>\n",
       "      <td>anni-s</td>\n",
       "      <td>2006-09-19</td>\n",
       "      <td>None</td>\n",
       "      <td>Neutral</td>\n",
       "      <td>0.0</td>\n",
       "      <td>\\nОбалденный фильм! Его можно смотреть бесконе...</td>\n",
       "    </tr>\n",
       "    <tr>\n",
       "      <th>35100</th>\n",
       "      <td>bottom100</td>\n",
       "      <td>Затаившиеся 3D (2011)</td>\n",
       "      <td>25362</td>\n",
       "      <td>GelStick</td>\n",
       "      <td>2011-05-01</td>\n",
       "      <td>Есть вещи, которые лучше даже не снимать.</td>\n",
       "      <td>Bad</td>\n",
       "      <td>2.0</td>\n",
       "      <td>\\n      Что тут скажешь, ожидать от фильма чег...</td>\n",
       "    </tr>\n",
       "    <tr>\n",
       "      <th>20660</th>\n",
       "      <td>top250</td>\n",
       "      <td>Взвод (1986)</td>\n",
       "      <td>27273</td>\n",
       "      <td>Товарищ Комисар</td>\n",
       "      <td>2009-11-22</td>\n",
       "      <td>Chasing Rabbit</td>\n",
       "      <td>Good</td>\n",
       "      <td>0.0</td>\n",
       "      <td>\\nЯ не понял до конца как это вышло, но крохот...</td>\n",
       "    </tr>\n",
       "    <tr>\n",
       "      <th>22816</th>\n",
       "      <td>top250</td>\n",
       "      <td>Престиж (2006)</td>\n",
       "      <td>4889</td>\n",
       "      <td>Rusty Duke</td>\n",
       "      <td>2007-01-21</td>\n",
       "      <td>None</td>\n",
       "      <td>Good</td>\n",
       "      <td>0.0</td>\n",
       "      <td>\\nВеликолепный фильм. После прочтения книги у ...</td>\n",
       "    </tr>\n",
       "    <tr>\n",
       "      <th>24187</th>\n",
       "      <td>top250</td>\n",
       "      <td>Темный рыцарь (2008)</td>\n",
       "      <td>12482</td>\n",
       "      <td>Officiant</td>\n",
       "      <td>2011-02-10</td>\n",
       "      <td>«Не на кого нельзя положиться, всё приходиться...</td>\n",
       "      <td>Good</td>\n",
       "      <td>10.0</td>\n",
       "      <td>\\nПознакомился я с данным фильмом случайно. Ка...</td>\n",
       "    </tr>\n",
       "  </tbody>\n",
       "</table>\n",
       "</div>"
      ],
      "text/plain": [
       "            part             movie_name  review_id           author  \\\n",
       "22163     top250       Трасса 60 (2002)      26691           anni-s   \n",
       "35100  bottom100  Затаившиеся 3D (2011)      25362         GelStick   \n",
       "20660     top250           Взвод (1986)      27273  Товарищ Комисар   \n",
       "22816     top250         Престиж (2006)       4889       Rusty Duke   \n",
       "24187     top250   Темный рыцарь (2008)      12482        Officiant   \n",
       "\n",
       "            date                                              title   grade3  \\\n",
       "22163 2006-09-19                                               None  Neutral   \n",
       "35100 2011-05-01          Есть вещи, которые лучше даже не снимать.      Bad   \n",
       "20660 2009-11-22                                     Chasing Rabbit     Good   \n",
       "22816 2007-01-21                                               None     Good   \n",
       "24187 2011-02-10  «Не на кого нельзя положиться, всё приходиться...     Good   \n",
       "\n",
       "       grade10                                            content  \n",
       "22163      0.0  \\nОбалденный фильм! Его можно смотреть бесконе...  \n",
       "35100      2.0  \\n      Что тут скажешь, ожидать от фильма чег...  \n",
       "20660      0.0  \\nЯ не понял до конца как это вышло, но крохот...  \n",
       "22816      0.0  \\nВеликолепный фильм. После прочтения книги у ...  \n",
       "24187     10.0  \\nПознакомился я с данным фильмом случайно. Ка...  "
      ]
     },
     "execution_count": 17,
     "metadata": {},
     "output_type": "execute_result"
    }
   ],
   "source": [
    "import pandas as pd\n",
    "df = pd.read_json('kinopoisk.jsonl', lines=True)\n",
    "df.sample(5)"
   ]
  },
  {
   "cell_type": "code",
   "execution_count": 50,
   "id": "49f9acf4-b406-4453-adbf-19ae02c5623d",
   "metadata": {
    "tags": []
   },
   "outputs": [
    {
     "name": "stdout",
     "output_type": "stream",
     "text": [
      "\n",
      "блеф» — одна из моих самых любимых комедий\n",
      "\n",
      "этот фильм я наверно смотрел раз сто нет я конечно блефую я видел его куда больше не могу не выразить своё восхищение главными действующими лицами этого фильма начну с адриано челентано для которого как я считаю это лучшая роль в кино великолепный актёр неплохой певец странно что на его родине в италии его песни мало кто слушает ну я думаю что и итальянцы и французы привыкли к тому что у нас до сих их актёры популярней чем даже на своей родине да такой вот парадокс челентано конечно профессионал своего дела комик с серьёзным выражением лица он смешон ещё и потому что одновременно так серъёзен адриано браво\n",
      "\n",
      "а теперь несколько слов об энтони куине да тот самый горбун из нотрдама собор парижской богоматери оригинальная версия кто не смотрел рекомендую с ним както приключилась одна интересная история на съёмках одного из своих фильмов он то ли сломал то ли подвихнул ногу а роль требовала от него чтобы в одной из сцен он кружился с дамой в танце и он вместе со съёмочным коллективом вышел из этого положения они сделали вращающеюся платформу которая создавала видимость того что он весь в ритме танца вот такая вот история к слову об этом замечательном актёре\n",
      "\n",
      "ну и теперь сам фильм жанр которой можно смело обозвать авантюрой комедийной авантюрой некая белль дьюк весьма влиятельная дама пытается освободить своего старого знакомого авантюриста филиппа бенга у которого с ней давние счёты но вместо него на свободе оказывается другой комбинатораферист по имени феликс и чтобы не быть битым головорезами белль дьюк он уже сам разрабатывает план побега бэнга после того как они встречаются череда смешных сцен заставит зрителя разразиться шквальным смехом в их умений блефовать им просто нет равных главное правило чтобы блеф сработал надо самому в него поверить помимо всего этого они ещё и соревнуются в стратегий блефа некоторые сцены их обмана запомнились мне надолго особенно сцена в магазине тканей \n",
      "\n",
      " — привет старина так тебя выпустили из лепрозория\n",
      " — не совсем я оттуда сбежал\n",
      "\n",
      "ну или финальная сцена которую можно охарактеризовать тремя словами смех сквозь слёзы\n",
      "\n",
      "в завершении скажу что это великолепное кино можно смотреть и пересматривать очень много раз и оно не потеряет своего шарма и обаяния\n",
      "\n",
      "10 из 10\n"
     ]
    }
   ],
   "source": [
    "import string\n",
    "import re\n",
    "def Prepare_Y(x):\n",
    "    if(x==\"Good\"):\n",
    "        return 1\n",
    "    if(x==\"Neutral\"):\n",
    "        return 0\n",
    "    if(x==\"Bad\"):\n",
    "        return -1\n",
    "def Prepare_X(x):\n",
    "    chars = re.escape(string.punctuation)\n",
    "    return re.sub(r'['+chars+']', '',x).lower()\n",
    "train_x=list(map(Prepare_X,df['content'].to_numpy()))\n",
    "\n",
    "train_y=list(map(Prepare_Y,df['grade3'].to_numpy()))\n",
    "print(train_x[0])\n",
    "#print(train_y)"
   ]
  },
  {
   "cell_type": "code",
   "execution_count": 46,
   "id": "1d4981ba-0bec-45f7-8e50-2c51a933c1a6",
   "metadata": {
    "tags": []
   },
   "outputs": [],
   "source": [
    "#import tensorflow_datasets as tfds # pip install tensorflow_datasets OR python -m pip install tensorflow_datasets\n",
    "#dataset, info = tfds.load('imdb_reviews', with_info=True, as_supervised=True)\n",
    "#train_dataset, test_dataset = dataset['train'], dataset ['test']\n",
    "#train_dataset = train_dataset.shuffle(10000)\n",
    "\n",
    "\n",
    "\n",
    "\n",
    "'''for example, label in train_dataset.take(1):\n",
    "    print('text: ', example.numpy())\n",
    "    print(label)\n",
    "    print('label: ', label)\n",
    "    print()'''\n",
    "          \n",
    "import tensorflow as tf\n",
    "VOCAB_SIZE = 10000\n",
    "encoder = tf.keras.layers.experimental.preprocessing.TextVectorization(max_tokens=VOCAB_SIZE)\n",
    "#encoder.adapt (train_dataset.map(lambda text, label: text))\n",
    "#print(list(train_dataset.map(lambda text, label: text))[0])\n",
    "encoder.adapt (train_x)"
   ]
  },
  {
   "cell_type": "code",
   "execution_count": 56,
   "id": "ec787687-c28e-4537-b527-f6e09a9f5623",
   "metadata": {},
   "outputs": [
    {
     "name": "stdout",
     "output_type": "stream",
     "text": [
      "tf.Tensor([1780  481  240    1    1], shape=(5,), dtype=int64)\n",
      "tf.Tensor([2714  436    1 2708 6453    1], shape=(6,), dtype=int64)\n"
     ]
    }
   ],
   "source": [
    "print(encoder(\"Не совсем я оттуда сбежал\".lower()))\n",
    "print(encoder(\"Смех слова вектор собака собаку пёс\".lower()))#Единицы у слов, которых нет в словаре."
   ]
  },
  {
   "cell_type": "code",
   "execution_count": null,
   "id": "81121b4b-0e8d-4b36-b838-ac1a52e6a39d",
   "metadata": {},
   "outputs": [],
   "source": []
  }
 ],
 "metadata": {
  "kernelspec": {
   "display_name": "Python 3 (ipykernel)",
   "language": "python",
   "name": "python3"
  },
  "language_info": {
   "codemirror_mode": {
    "name": "ipython",
    "version": 3
   },
   "file_extension": ".py",
   "mimetype": "text/x-python",
   "name": "python",
   "nbconvert_exporter": "python",
   "pygments_lexer": "ipython3",
   "version": "3.9.13"
  }
 },
 "nbformat": 4,
 "nbformat_minor": 5
}
