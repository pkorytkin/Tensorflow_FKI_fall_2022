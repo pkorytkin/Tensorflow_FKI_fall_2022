{
 "cells": [
  {
   "cell_type": "code",
   "execution_count": 1,
   "id": "13737705-6ff6-444b-a1b8-16b9485bde8e",
   "metadata": {},
   "outputs": [],
   "source": [
    "from matplotlib import pyplot as plt\n",
    "import tensorflow as tf\n",
    "#from tensorflow import keras\n",
    "#Используем костыль для исправления IntelliSense для keras по гайду:\n",
    "#https://stackoverflow.com/questions/71000250/import-tensorflow-keras-could-not-be-resolved-after-upgrading-to-tensorflow-2\n",
    "import keras.api._v2.keras as keras\n",
    "from keras import layers\n",
    "from keras import losses\n",
    "from keras.datasets import mnist\n",
    "import numpy as np\n",
    "from emnist import list_datasets\n",
    "from emnist import extract_training_samples"
   ]
  },
  {
   "cell_type": "code",
   "execution_count": 2,
   "id": "f39a2534-332a-4bf2-91db-d088a7d60bca",
   "metadata": {},
   "outputs": [
    {
     "name": "stdout",
     "output_type": "stream",
     "text": [
      "(697932, 28, 28, 1) (697932, 62)\n"
     ]
    }
   ],
   "source": [
    "(x_train,y_train), (x_test,y_test)=mnist.load_data()\n",
    "\n",
    "x_train, y_train = extract_training_samples('byclass')\n",
    "#PartSize=int(x_train.shape[0]/10)\n",
    "#x_train=x_train[:PartSize]\n",
    "#y_train=y_train[:PartSize]\n",
    "num_classes=62#10\n",
    "input_shape = (28, 28, 1)\n",
    "\n",
    "x_train=x_train.astype('float32')/255.0\n",
    "x_test=x_test.astype('float32')/255.0\n",
    "\n",
    "x_train = np.expand_dims(x_train, -1)\n",
    "x_test = np.expand_dims(x_test, -1)\n",
    "\n",
    "y_train = keras.utils.to_categorical(y_train, num_classes)\n",
    "y_test = keras.utils.to_categorical(y_test, num_classes)\n",
    "\n",
    "print(x_train.shape,y_train.shape)"
   ]
  },
  {
   "cell_type": "code",
   "execution_count": 3,
   "id": "4783662a-350b-434f-912e-185d7aed992f",
   "metadata": {},
   "outputs": [],
   "source": [
    "from keras.layers import Convolution2D, Input\n",
    "\n",
    "def define_skip_model():\n",
    "    inputs = keras.Input(shape=input_shape, name=\"img\")\n",
    "    x = layers.BatchNormalization()(inputs)\n",
    "    x = layers.Conv2D(32, 3, activation=\"relu\")(x)\n",
    "    x = layers.Conv2D(64, 3, activation=\"relu\")(x)\n",
    "    x = layers.BatchNormalization()(x)\n",
    "    #x = layers.Dropout(0.2)(x)\n",
    "    block_1_output = layers.MaxPooling2D(3)(x)\n",
    "    #block_1_output = layers.BatchNormalization()(block_1_output)\n",
    "    \n",
    "    x = layers.Conv2D(64, 3, activation=\"relu\", padding=\"same\")(block_1_output)\n",
    "    x = layers.Conv2D(64, 3, activation=\"relu\", padding=\"same\")(x)\n",
    "    x = layers.BatchNormalization()(x)\n",
    "    #x = layers.Dropout(0.2)(x)\n",
    "    block_2_output = layers.concatenate([x, block_1_output])\n",
    "    #block_2_output = layers.BatchNormalization()(block_2_output)\n",
    "    x = layers.Conv2D(64, 3, activation=\"relu\")(block_2_output)\n",
    "    x = layers.GlobalAveragePooling2D()(x)\n",
    "    #x = layers.Dense(256, activation=\"relu\")(x)\n",
    "    x = layers.Dropout(0.5)(x)\n",
    "    outputs = layers.Dense(num_classes, activation=\"softmax\")(x)\n",
    "    model = keras.Model(inputs, outputs, name=\"toy_resnet\")\n",
    "    return model\n",
    "model=define_skip_model()"
   ]
  },
  {
   "cell_type": "code",
   "execution_count": 4,
   "id": "34e0e163-e1cf-4b1d-ba60-4f214ef2ca0c",
   "metadata": {
    "tags": []
   },
   "outputs": [
    {
     "name": "stdout",
     "output_type": "stream",
     "text": [
      "Model: \"toy_resnet\"\n",
      "__________________________________________________________________________________________________\n",
      " Layer (type)                   Output Shape         Param #     Connected to                     \n",
      "==================================================================================================\n",
      " img (InputLayer)               [(None, 28, 28, 1)]  0           []                               \n",
      "                                                                                                  \n",
      " batch_normalization (BatchNorm  (None, 28, 28, 1)   4           ['img[0][0]']                    \n",
      " alization)                                                                                       \n",
      "                                                                                                  \n",
      " conv2d (Conv2D)                (None, 26, 26, 32)   320         ['batch_normalization[0][0]']    \n",
      "                                                                                                  \n",
      " conv2d_1 (Conv2D)              (None, 24, 24, 64)   18496       ['conv2d[0][0]']                 \n",
      "                                                                                                  \n",
      " batch_normalization_1 (BatchNo  (None, 24, 24, 64)  256         ['conv2d_1[0][0]']               \n",
      " rmalization)                                                                                     \n",
      "                                                                                                  \n",
      " max_pooling2d (MaxPooling2D)   (None, 8, 8, 64)     0           ['batch_normalization_1[0][0]']  \n",
      "                                                                                                  \n",
      " conv2d_2 (Conv2D)              (None, 8, 8, 64)     36928       ['max_pooling2d[0][0]']          \n",
      "                                                                                                  \n",
      " conv2d_3 (Conv2D)              (None, 8, 8, 64)     36928       ['conv2d_2[0][0]']               \n",
      "                                                                                                  \n",
      " batch_normalization_2 (BatchNo  (None, 8, 8, 64)    256         ['conv2d_3[0][0]']               \n",
      " rmalization)                                                                                     \n",
      "                                                                                                  \n",
      " concatenate (Concatenate)      (None, 8, 8, 128)    0           ['batch_normalization_2[0][0]',  \n",
      "                                                                  'max_pooling2d[0][0]']          \n",
      "                                                                                                  \n",
      " conv2d_4 (Conv2D)              (None, 6, 6, 64)     73792       ['concatenate[0][0]']            \n",
      "                                                                                                  \n",
      " global_average_pooling2d (Glob  (None, 64)          0           ['conv2d_4[0][0]']               \n",
      " alAveragePooling2D)                                                                              \n",
      "                                                                                                  \n",
      " dropout (Dropout)              (None, 64)           0           ['global_average_pooling2d[0][0]'\n",
      "                                                                 ]                                \n",
      "                                                                                                  \n",
      " dense (Dense)                  (None, 62)           4030        ['dropout[0][0]']                \n",
      "                                                                                                  \n",
      "==================================================================================================\n",
      "Total params: 171,010\n",
      "Trainable params: 170,752\n",
      "Non-trainable params: 258\n",
      "__________________________________________________________________________________________________\n",
      "None\n"
     ]
    },
    {
     "name": "stderr",
     "output_type": "stream",
     "text": [
      "C:\\Users\\PlayerPC\\Miniconda3\\envs\\tf\\lib\\site-packages\\keras\\optimizers\\optimizer_v2\\adam.py:114: UserWarning: The `lr` argument is deprecated, use `learning_rate` instead.\n",
      "  super().__init__(name, **kwargs)\n"
     ]
    }
   ],
   "source": [
    "model.compile(\n",
    "    loss=losses.CategoricalCrossentropy(),\n",
    "    optimizer=tf.optimizers.Adam(lr=0.01),\n",
    "    metrics=['accuracy']\n",
    ")\n",
    "print(model.summary())"
   ]
  },
  {
   "cell_type": "code",
   "execution_count": 5,
   "id": "4abc6bea-41f4-4356-9443-de36bffef89e",
   "metadata": {},
   "outputs": [],
   "source": [
    "model.load_weights(\"ready.h5\")"
   ]
  },
  {
   "cell_type": "code",
   "execution_count": 15,
   "id": "8b8278ec-de25-4d7b-ad39-6ea29e8b5ae1",
   "metadata": {},
   "outputs": [],
   "source": [
    "#model.save_weights(\"ready.h5\")"
   ]
  },
  {
   "cell_type": "code",
   "execution_count": 6,
   "id": "84c73c73-11d2-4e0b-9f5a-42662f56d789",
   "metadata": {},
   "outputs": [
    {
     "name": "stdout",
     "output_type": "stream",
     "text": [
      "1396/1396 [==============================] - 72s 48ms/step - loss: 0.5500 - accuracy: 0.8168 - val_loss: 0.2897 - val_accuracy: 0.9279\n"
     ]
    },
    {
     "data": {
      "text/plain": [
       "<keras.callbacks.History at 0x1a41a836550>"
      ]
     },
     "execution_count": 6,
     "metadata": {},
     "output_type": "execute_result"
    }
   ],
   "source": [
    "#model.fit(x_train,y_train,batch_size=500,epochs=1,shuffle=True,validation_data=(x_test,y_test))"
   ]
  },
  {
   "cell_type": "code",
   "execution_count": 6,
   "id": "2746a6a4-ab2b-4fd3-bcf9-ff9af497cca8",
   "metadata": {},
   "outputs": [
    {
     "name": "stdout",
     "output_type": "stream",
     "text": [
      "313/313 [==============================] - 5s 5ms/step - loss: 0.2897 - accuracy: 0.9279\n",
      "./Prepared/\n",
      "./Prepared/ [] ['1.png', '2.png', '3.png', '4.png', 'Test.png']\n",
      "(28, 28)\n"
     ]
    },
    {
     "data": {
      "image/png": "[encoded data removed]",
      "text/plain": [
       "<Figure size 640x480 with 1 Axes>"
      ]
     },
     "metadata": {},
     "output_type": "display_data"
    },
    {
     "name": "stdout",
     "output_type": "stream",
     "text": [
      "0.85882354\n",
      "(1, 28, 28) 1.png\n",
      "1/1 [==============================] - 0s 229ms/step\n",
      "Predicted ID=12\n",
      "(28, 28)\n"
     ]
    },
    {
     "data": {
      "image/png": "[encoded data removed]",
      "text/plain": [
       "<Figure size 640x480 with 1 Axes>"
      ]
     },
     "metadata": {},
     "output_type": "display_data"
    },
    {
     "name": "stdout",
     "output_type": "stream",
     "text": [
      "0.9098039\n",
      "(1, 28, 28) 2.png\n",
      "1/1 [==============================] - 0s 22ms/step\n",
      "Predicted ID=30\n",
      "(28, 28)\n"
     ]
    },
    {
     "data": {
      "image/png": "[encoded data removed]",
      "text/plain": [
       "<Figure size 640x480 with 1 Axes>"
      ]
     },
     "metadata": {},
     "output_type": "display_data"
    },
    {
     "name": "stdout",
     "output_type": "stream",
     "text": [
      "0.84313726\n",
      "(1, 28, 28) 3.png\n",
      "1/1 [==============================] - 0s 20ms/step\n",
      "Predicted ID=5\n",
      "(28, 28)\n"
     ]
    },
    {
     "data": {
      "image/png": "[encoded data removed]",
      "text/plain": [
       "<Figure size 640x480 with 1 Axes>"
      ]
     },
     "metadata": {},
     "output_type": "display_data"
    },
    {
     "name": "stdout",
     "output_type": "stream",
     "text": [
      "0.8862745\n",
      "(1, 28, 28) 4.png\n",
      "1/1 [==============================] - 0s 24ms/step\n",
      "Predicted ID=18\n",
      "(28, 28)\n"
     ]
    },
    {
     "data": {
      "image/png": "[encoded data removed]",
      "text/plain": [
       "<Figure size 640x480 with 1 Axes>"
      ]
     },
     "metadata": {},
     "output_type": "display_data"
    },
    {
     "name": "stdout",
     "output_type": "stream",
     "text": [
      "0.85882354\n",
      "(1, 28, 28) Test.png\n",
      "1/1 [==============================] - 0s 22ms/step\n",
      "Predicted ID=3\n"
     ]
    }
   ],
   "source": [
    "import numpy as np\n",
    "import cv2\n",
    "from os import walk\n",
    "def checkImage(im,name):\n",
    "\n",
    "\n",
    "    \n",
    "    im = cv2.cvtColor(im, cv2.COLOR_BGR2GRAY)\n",
    "    \n",
    "    kernel = np.ones((2, 2), 'uint8')\n",
    "    #Нужно немного дилатации чтоб ~ лучше соответствовало EMNIST\n",
    "    im = cv2.dilate(im, kernel, iterations=2)\n",
    "    \n",
    "    im=cv2.resize(im,(28,28))\n",
    "    print(im.shape)\n",
    "    im=im.astype('float32')/255.0\n",
    "    \n",
    "    im=im.reshape((1,28,28))\n",
    "\n",
    "    from matplotlib import pyplot as plt\n",
    "    plt.imshow((im).reshape((28,28)), interpolation='nearest')\n",
    "    plt.show()\n",
    "    \n",
    "    print(im.max().max())\n",
    "    \n",
    "    print(str(im.shape),name)\n",
    "    #print(model.predict(x_test,batch_size=1).argmax())\n",
    "    print(\"Predicted ID=\"+str(model.predict(im,batch_size=1).argmax()))\n",
    "    \n",
    "\n",
    "\n",
    "\n",
    "def WorkAllImages(folderPath):\n",
    "    print(folderPath)\n",
    "    for (dirpath, dirnames, filenames) in walk(folderPath):\n",
    "        #f.extend(filenames)\n",
    "        print(dirpath,dirnames,filenames)\n",
    "        \n",
    "        for image in filenames:\n",
    "            im = cv2.imread(dirpath+image)\n",
    "            \n",
    "            checkImage(im,image)\n",
    "\n",
    "model.evaluate(x_test,y_test)\n",
    "WorkAllImages(\"./Prepared/\")"
   ]
  },
  {
   "cell_type": "code",
   "execution_count": null,
   "id": "148c8878-f2f0-4fe7-9b7e-9061de6d9e17",
   "metadata": {},
   "outputs": [],
   "source": []
  },
  {
   "cell_type": "code",
   "execution_count": null,
   "id": "55f48ca4-68de-481c-a12d-0cf6d594daab",
   "metadata": {},
   "outputs": [],
   "source": []
  }
 ],
 "metadata": {
  "kernelspec": {
   "display_name": "Python 3 (ipykernel)",
   "language": "python",
   "name": "python3"
  },
  "language_info": {
   "codemirror_mode": {
    "name": "ipython",
    "version": 3
   },
   "file_extension": ".py",
   "mimetype": "text/x-python",
   "name": "python",
   "nbconvert_exporter": "python",
   "pygments_lexer": "ipython3",
   "version": "3.9.13"
  }
 },
 "nbformat": 4,
 "nbformat_minor": 5
}
